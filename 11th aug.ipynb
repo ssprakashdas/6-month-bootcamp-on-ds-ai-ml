{
 "cells": [
  {
   "cell_type": "code",
   "execution_count": 1,
   "id": "20c1a79f-8067-4d4c-aab1-65330ed7fa9a",
   "metadata": {},
   "outputs": [],
   "source": [
    "import numpy as p"
   ]
  },
  {
   "cell_type": "code",
   "execution_count": 2,
   "id": "1724d597-e95c-46c8-b522-fa36ae80d5e3",
   "metadata": {},
   "outputs": [
    {
     "data": {
      "text/plain": [
       "'2.1.3'"
      ]
     },
     "execution_count": 2,
     "metadata": {},
     "output_type": "execute_result"
    }
   ],
   "source": [
    "p.__version__"
   ]
  },
  {
   "cell_type": "code",
   "execution_count": 3,
   "id": "47f89d66-453d-4211-a950-a290dbfec5ea",
   "metadata": {},
   "outputs": [
    {
     "data": {
      "text/plain": [
       "[0, 1, 2, 3, 4, 5]"
      ]
     },
     "execution_count": 3,
     "metadata": {},
     "output_type": "execute_result"
    }
   ],
   "source": [
    "my_list = [0,1,2,3,4,5]\n",
    "my_list"
   ]
  },
  {
   "cell_type": "code",
   "execution_count": 4,
   "id": "a79b4fa1-94b2-4246-a5c1-ce9ea7ea77c8",
   "metadata": {},
   "outputs": [
    {
     "data": {
      "text/plain": [
       "list"
      ]
     },
     "execution_count": 4,
     "metadata": {},
     "output_type": "execute_result"
    }
   ],
   "source": [
    "type(my_list)"
   ]
  },
  {
   "cell_type": "code",
   "execution_count": 5,
   "id": "9c6b7860-9579-4c5a-91d7-1f9012e9b990",
   "metadata": {},
   "outputs": [
    {
     "data": {
      "text/plain": [
       "[0, 1, 2, 3, 4, 5]"
      ]
     },
     "execution_count": 5,
     "metadata": {},
     "output_type": "execute_result"
    }
   ],
   "source": [
    "my_list"
   ]
  },
  {
   "cell_type": "code",
   "execution_count": 6,
   "id": "7a7fba2a-785c-448c-b64d-06018752a7b6",
   "metadata": {},
   "outputs": [
    {
     "data": {
      "text/plain": [
       "array([0, 1, 2, 3, 4, 5])"
      ]
     },
     "execution_count": 6,
     "metadata": {},
     "output_type": "execute_result"
    }
   ],
   "source": [
    "arr = p.array(my_list)\n",
    "arr"
   ]
  },
  {
   "cell_type": "code",
   "execution_count": 8,
   "id": "ab513081-cb66-4de6-8338-4b0ac05e0d6a",
   "metadata": {},
   "outputs": [
    {
     "name": "stdout",
     "output_type": "stream",
     "text": [
      "<class 'numpy.ndarray'>\n"
     ]
    }
   ],
   "source": [
    "print(type(arr))"
   ]
  },
  {
   "cell_type": "code",
   "execution_count": 10,
   "id": "7769c085-3b3a-4301-8fdf-775f62aabec7",
   "metadata": {},
   "outputs": [
    {
     "data": {
      "text/plain": [
       "array([0, 1, 2, 3, 4, 5, 6, 7, 8, 9])"
      ]
     },
     "execution_count": 10,
     "metadata": {},
     "output_type": "execute_result"
    }
   ],
   "source": [
    "p.arange(10)"
   ]
  },
  {
   "cell_type": "code",
   "execution_count": 12,
   "id": "d20e515b-e629-4ff3-83ca-8f12bab8e065",
   "metadata": {},
   "outputs": [
    {
     "data": {
      "text/plain": [
       "array([10, 11, 12, 13, 14, 15, 16, 17, 18, 19])"
      ]
     },
     "execution_count": 12,
     "metadata": {},
     "output_type": "execute_result"
    }
   ],
   "source": [
    "p.arange(10,20)"
   ]
  },
  {
   "cell_type": "code",
   "execution_count": 14,
   "id": "b06e619a-97d3-474b-9b5d-6e9af99934d3",
   "metadata": {},
   "outputs": [
    {
     "data": {
      "text/plain": [
       "array([10, 15, 20, 25, 30, 35, 40, 45])"
      ]
     },
     "execution_count": 14,
     "metadata": {},
     "output_type": "execute_result"
    }
   ],
   "source": [
    "p.arange(10,50,5)"
   ]
  },
  {
   "cell_type": "code",
   "execution_count": 15,
   "id": "d3d5ae46-f40a-43f4-b62c-94b93da390a9",
   "metadata": {},
   "outputs": [
    {
     "data": {
      "text/plain": [
       "array([], dtype=int64)"
      ]
     },
     "execution_count": 15,
     "metadata": {},
     "output_type": "execute_result"
    }
   ],
   "source": [
    "p.arange(20,10)"
   ]
  },
  {
   "cell_type": "code",
   "execution_count": 17,
   "id": "675664d4-0757-4c16-9681-b31d7a8cddeb",
   "metadata": {},
   "outputs": [
    {
     "data": {
      "text/plain": [
       "array([-20, -19, -18, -17, -16, -15, -14, -13, -12, -11, -10,  -9,  -8,\n",
       "        -7,  -6,  -5,  -4,  -3,  -2,  -1,   0,   1,   2,   3,   4,   5,\n",
       "         6,   7,   8,   9])"
      ]
     },
     "execution_count": 17,
     "metadata": {},
     "output_type": "execute_result"
    }
   ],
   "source": [
    "p.arange(-20,10)"
   ]
  },
  {
   "cell_type": "code",
   "execution_count": 18,
   "id": "bc1a96b6-f544-4d3f-99aa-b5be2f8f6eec",
   "metadata": {},
   "outputs": [
    {
     "data": {
      "text/plain": [
       "array([0., 0., 0., 0., 0.])"
      ]
     },
     "execution_count": 18,
     "metadata": {},
     "output_type": "execute_result"
    }
   ],
   "source": [
    "p.zeros(5)"
   ]
  },
  {
   "cell_type": "code",
   "execution_count": 20,
   "id": "f4004bf9-dafa-4b79-b8ab-5e7cd5cfb0e5",
   "metadata": {},
   "outputs": [
    {
     "data": {
      "text/plain": [
       "array([0, 0, 0, 0, 0])"
      ]
     },
     "execution_count": 20,
     "metadata": {},
     "output_type": "execute_result"
    }
   ],
   "source": [
    "p.zeros(5, dtype=int)"
   ]
  },
  {
   "cell_type": "code",
   "execution_count": 22,
   "id": "ab8843bc-a3c1-4602-8636-6d5ea6b0052d",
   "metadata": {},
   "outputs": [
    {
     "data": {
      "text/plain": [
       "array([[0., 0.],\n",
       "       [0., 0.]])"
      ]
     },
     "execution_count": 22,
     "metadata": {},
     "output_type": "execute_result"
    }
   ],
   "source": [
    "p.zeros([2,2])"
   ]
  },
  {
   "cell_type": "code",
   "execution_count": 24,
   "id": "50bcd27b-08a4-4e0e-8bad-92d4a22a7fa7",
   "metadata": {},
   "outputs": [
    {
     "data": {
      "text/plain": [
       "array([[0., 0., 0., 0.],\n",
       "       [0., 0., 0., 0.],\n",
       "       [0., 0., 0., 0.],\n",
       "       [0., 0., 0., 0.],\n",
       "       [0., 0., 0., 0.]])"
      ]
     },
     "execution_count": 24,
     "metadata": {},
     "output_type": "execute_result"
    }
   ],
   "source": [
    "p.zeros([5,4])"
   ]
  },
  {
   "cell_type": "code",
   "execution_count": 26,
   "id": "1eabde1b-d2d4-47e8-b734-002dfad29c26",
   "metadata": {},
   "outputs": [
    {
     "data": {
      "text/plain": [
       "array([[0, 0, 0, 0, 0, 0, 0, 0, 0, 0],\n",
       "       [0, 0, 0, 0, 0, 0, 0, 0, 0, 0],\n",
       "       [0, 0, 0, 0, 0, 0, 0, 0, 0, 0],\n",
       "       [0, 0, 0, 0, 0, 0, 0, 0, 0, 0],\n",
       "       [0, 0, 0, 0, 0, 0, 0, 0, 0, 0],\n",
       "       [0, 0, 0, 0, 0, 0, 0, 0, 0, 0],\n",
       "       [0, 0, 0, 0, 0, 0, 0, 0, 0, 0],\n",
       "       [0, 0, 0, 0, 0, 0, 0, 0, 0, 0],\n",
       "       [0, 0, 0, 0, 0, 0, 0, 0, 0, 0],\n",
       "       [0, 0, 0, 0, 0, 0, 0, 0, 0, 0]])"
      ]
     },
     "execution_count": 26,
     "metadata": {},
     "output_type": "execute_result"
    }
   ],
   "source": [
    "p.zeros((10,10),dtype = int)"
   ]
  },
  {
   "cell_type": "code",
   "execution_count": 27,
   "id": "789b6567-3c27-4fa8-83da-733f5a0b8ee9",
   "metadata": {},
   "outputs": [
    {
     "data": {
      "text/plain": [
       "array([1., 1.])"
      ]
     },
     "execution_count": 27,
     "metadata": {},
     "output_type": "execute_result"
    }
   ],
   "source": [
    "p.ones(2)"
   ]
  },
  {
   "cell_type": "code",
   "execution_count": 28,
   "id": "547bcc1b-5a7f-4737-8d30-ee5d621da53f",
   "metadata": {},
   "outputs": [
    {
     "data": {
      "text/plain": [
       "array([1, 1])"
      ]
     },
     "execution_count": 28,
     "metadata": {},
     "output_type": "execute_result"
    }
   ],
   "source": [
    "p.ones(2,dtype=int)"
   ]
  },
  {
   "cell_type": "code",
   "execution_count": 30,
   "id": "b908e499-addc-49b0-a3d9-118538c9938a",
   "metadata": {},
   "outputs": [
    {
     "data": {
      "text/plain": [
       "array([[1., 1.],\n",
       "       [1., 1.]])"
      ]
     },
     "execution_count": 30,
     "metadata": {},
     "output_type": "execute_result"
    }
   ],
   "source": [
    "p.ones([2,2])"
   ]
  },
  {
   "cell_type": "code",
   "execution_count": 31,
   "id": "be4975c7-fb21-4cba-a51c-28545779893c",
   "metadata": {},
   "outputs": [
    {
     "data": {
      "text/plain": [
       "array([[1., 1., 1., 1., 1.],\n",
       "       [1., 1., 1., 1., 1.],\n",
       "       [1., 1., 1., 1., 1.],\n",
       "       [1., 1., 1., 1., 1.]])"
      ]
     },
     "execution_count": 31,
     "metadata": {},
     "output_type": "execute_result"
    }
   ],
   "source": [
    "p.ones([4,5])"
   ]
  },
  {
   "cell_type": "code",
   "execution_count": 32,
   "id": "314f3418-5222-453e-854b-5d743fff32e9",
   "metadata": {},
   "outputs": [
    {
     "data": {
      "text/plain": [
       "array([0, 1, 2, 3, 4, 5])"
      ]
     },
     "execution_count": 32,
     "metadata": {},
     "output_type": "execute_result"
    }
   ],
   "source": [
    "arr"
   ]
  },
  {
   "cell_type": "code",
   "execution_count": 33,
   "id": "2c7cfe7a-188c-45b9-bcd7-e1d4000da78d",
   "metadata": {},
   "outputs": [
    {
     "ename": "NameError",
     "evalue": "name 'ran' is not defined",
     "output_type": "error",
     "traceback": [
      "\u001b[31m---------------------------------------------------------------------------\u001b[39m",
      "\u001b[31mNameError\u001b[39m                                 Traceback (most recent call last)",
      "\u001b[36mCell\u001b[39m\u001b[36m \u001b[39m\u001b[32mIn[33]\u001b[39m\u001b[32m, line 1\u001b[39m\n\u001b[32m----> \u001b[39m\u001b[32m1\u001b[39m \u001b[43mran\u001b[49m(\u001b[32m3\u001b[39m,\u001b[32m2\u001b[39m)\n",
      "\u001b[31mNameError\u001b[39m: name 'ran' is not defined"
     ]
    }
   ],
   "source": [
    "ran(3,2)"
   ]
  },
  {
   "cell_type": "code",
   "execution_count": 34,
   "id": "f6892cd8-9181-480a-ac4e-b9f845e7d463",
   "metadata": {},
   "outputs": [
    {
     "ename": "NameError",
     "evalue": "name 'random' is not defined",
     "output_type": "error",
     "traceback": [
      "\u001b[31m---------------------------------------------------------------------------\u001b[39m",
      "\u001b[31mNameError\u001b[39m                                 Traceback (most recent call last)",
      "\u001b[36mCell\u001b[39m\u001b[36m \u001b[39m\u001b[32mIn[34]\u001b[39m\u001b[32m, line 1\u001b[39m\n\u001b[32m----> \u001b[39m\u001b[32m1\u001b[39m \u001b[43mrandom\u001b[49m.rand(\u001b[32m3\u001b[39m,\u001b[32m2\u001b[39m)\n",
      "\u001b[31mNameError\u001b[39m: name 'random' is not defined"
     ]
    }
   ],
   "source": [
    "random.rand(3,2)"
   ]
  },
  {
   "cell_type": "code",
   "execution_count": 37,
   "id": "ce14e277-b1d7-43e5-a228-3e95036dc0f9",
   "metadata": {},
   "outputs": [
    {
     "data": {
      "text/plain": [
       "array([0.31828408, 0.1756205 , 0.40791837])"
      ]
     },
     "execution_count": 37,
     "metadata": {},
     "output_type": "execute_result"
    }
   ],
   "source": [
    "p.random.rand(3)"
   ]
  },
  {
   "cell_type": "code",
   "execution_count": 39,
   "id": "f32c82e0-c2d3-4083-956f-46ff5f5eb5fd",
   "metadata": {},
   "outputs": [
    {
     "data": {
      "text/plain": [
       "5"
      ]
     },
     "execution_count": 39,
     "metadata": {},
     "output_type": "execute_result"
    }
   ],
   "source": [
    "p.random.randint(4,6)"
   ]
  },
  {
   "cell_type": "code",
   "execution_count": 41,
   "id": "b3f8c239-48eb-4fed-8077-1b64631858aa",
   "metadata": {},
   "outputs": [
    {
     "data": {
      "text/plain": [
       "1"
      ]
     },
     "execution_count": 41,
     "metadata": {},
     "output_type": "execute_result"
    }
   ],
   "source": [
    "p.random.randint(0,3)"
   ]
  },
  {
   "cell_type": "code",
   "execution_count": 42,
   "id": "aa886b0d-d8c9-48d5-8c2e-39319386530a",
   "metadata": {},
   "outputs": [
    {
     "data": {
      "text/plain": [
       "array([4, 7, 7], dtype=int32)"
      ]
     },
     "execution_count": 42,
     "metadata": {},
     "output_type": "execute_result"
    }
   ],
   "source": [
    "p.random.randint(2,8,3)"
   ]
  },
  {
   "cell_type": "code",
   "execution_count": 51,
   "id": "0cdef9da-2e39-4229-a4da-ab880399b5fa",
   "metadata": {},
   "outputs": [],
   "source": [
    "b = p.random.randint(10,40,(8,10))"
   ]
  },
  {
   "cell_type": "code",
   "execution_count": 52,
   "id": "38499b93-b0b2-450a-9851-61e655213dd3",
   "metadata": {},
   "outputs": [
    {
     "data": {
      "text/plain": [
       "array([[29, 39, 17, 11, 33, 38, 11, 17, 34, 22],\n",
       "       [11, 30, 31, 31, 22, 37, 27, 39, 22, 20],\n",
       "       [27, 16, 37, 29, 14, 13, 39, 37, 16, 28],\n",
       "       [21, 29, 35, 27, 34, 20, 33, 32, 20, 38],\n",
       "       [10, 36, 33, 19, 31, 13, 26, 31, 34, 35],\n",
       "       [16, 28, 19, 32, 38, 14, 38, 23, 11, 23],\n",
       "       [26, 10, 21, 12, 37, 11, 27, 15, 18, 39],\n",
       "       [17, 20, 20, 23, 13, 29, 39, 30, 32, 16]], dtype=int32)"
      ]
     },
     "execution_count": 52,
     "metadata": {},
     "output_type": "execute_result"
    }
   ],
   "source": [
    "b"
   ]
  },
  {
   "cell_type": "code",
   "execution_count": 53,
   "id": "9edc033a-63b5-4523-b0df-aa19072cc348",
   "metadata": {},
   "outputs": [
    {
     "data": {
      "text/plain": [
       "array([29, 39, 17, 11, 33, 38, 11, 17, 34, 22], dtype=int32)"
      ]
     },
     "execution_count": 53,
     "metadata": {},
     "output_type": "execute_result"
    }
   ],
   "source": [
    "b[0]"
   ]
  },
  {
   "cell_type": "code",
   "execution_count": 56,
   "id": "d58c0ef4-322a-4029-884a-8a328d1a95fd",
   "metadata": {},
   "outputs": [
    {
     "name": "stdout",
     "output_type": "stream",
     "text": [
      "22\n"
     ]
    }
   ],
   "source": [
    "print(b[1,-2])"
   ]
  },
  {
   "cell_type": "code",
   "execution_count": 57,
   "id": "5017f1b0-a1c9-4140-b1d1-cf6cc3728b50",
   "metadata": {},
   "outputs": [
    {
     "data": {
      "text/plain": [
       "array([[17, 20, 20, 23, 13, 29, 39, 30, 32, 16],\n",
       "       [26, 10, 21, 12, 37, 11, 27, 15, 18, 39],\n",
       "       [16, 28, 19, 32, 38, 14, 38, 23, 11, 23],\n",
       "       [10, 36, 33, 19, 31, 13, 26, 31, 34, 35],\n",
       "       [21, 29, 35, 27, 34, 20, 33, 32, 20, 38],\n",
       "       [27, 16, 37, 29, 14, 13, 39, 37, 16, 28],\n",
       "       [11, 30, 31, 31, 22, 37, 27, 39, 22, 20],\n",
       "       [29, 39, 17, 11, 33, 38, 11, 17, 34, 22]], dtype=int32)"
      ]
     },
     "execution_count": 57,
     "metadata": {},
     "output_type": "execute_result"
    }
   ],
   "source": [
    "b[::-1]"
   ]
  },
  {
   "cell_type": "code",
   "execution_count": 58,
   "id": "83fa80d2-88b7-4eb5-9ffd-9b09e51e1961",
   "metadata": {},
   "outputs": [
    {
     "data": {
      "text/plain": [
       "array([[29, 39, 17, 11, 33, 38, 11, 17, 34, 22],\n",
       "       [11, 30, 31, 31, 22, 37, 27, 39, 22, 20],\n",
       "       [27, 16, 37, 29, 14, 13, 39, 37, 16, 28],\n",
       "       [21, 29, 35, 27, 34, 20, 33, 32, 20, 38],\n",
       "       [10, 36, 33, 19, 31, 13, 26, 31, 34, 35],\n",
       "       [16, 28, 19, 32, 38, 14, 38, 23, 11, 23],\n",
       "       [26, 10, 21, 12, 37, 11, 27, 15, 18, 39]], dtype=int32)"
      ]
     },
     "execution_count": 58,
     "metadata": {},
     "output_type": "execute_result"
    }
   ],
   "source": [
    "b[:-1]"
   ]
  },
  {
   "cell_type": "code",
   "execution_count": 59,
   "id": "b5bcd068-fdf3-44e0-bba7-8ba21c94c1f4",
   "metadata": {},
   "outputs": [
    {
     "data": {
      "text/plain": [
       "numpy.ndarray"
      ]
     },
     "execution_count": 59,
     "metadata": {},
     "output_type": "execute_result"
    }
   ],
   "source": [
    "type(b)"
   ]
  },
  {
   "cell_type": "code",
   "execution_count": 61,
   "id": "976ceaa2-78d0-49a6-af13-7fff30edcfae",
   "metadata": {},
   "outputs": [
    {
     "data": {
      "text/plain": [
       "array([[29, 39, 17, 11, 33, 38, 11, 17, 34, 22],\n",
       "       [11, 30, 31, 31, 22, 37, 27, 39, 22, 20],\n",
       "       [27, 16, 37, 29, 14, 13, 39, 37, 16, 28],\n",
       "       [21, 29, 35, 27, 34, 20, 33, 32, 20, 38],\n",
       "       [10, 36, 33, 19, 31, 13, 26, 31, 34, 35],\n",
       "       [16, 28, 19, 32, 38, 14, 38, 23, 11, 23],\n",
       "       [26, 10, 21, 12, 37, 11, 27, 15, 18, 39],\n",
       "       [17, 20, 20, 23, 13, 29, 39, 30, 32, 16]], dtype=int32)"
      ]
     },
     "execution_count": 61,
     "metadata": {},
     "output_type": "execute_result"
    }
   ],
   "source": [
    "b"
   ]
  },
  {
   "cell_type": "code",
   "execution_count": 63,
   "id": "ffbdac65-5449-4378-8ea4-92ea6c65eabd",
   "metadata": {},
   "outputs": [
    {
     "data": {
      "text/plain": [
       "array([[29, 39, 17, 11, 33, 38, 11, 17, 34, 22],\n",
       "       [27, 16, 37, 29, 14, 13, 39, 37, 16, 28],\n",
       "       [10, 36, 33, 19, 31, 13, 26, 31, 34, 35],\n",
       "       [26, 10, 21, 12, 37, 11, 27, 15, 18, 39]], dtype=int32)"
      ]
     },
     "execution_count": 63,
     "metadata": {},
     "output_type": "execute_result"
    }
   ],
   "source": [
    "b[::2]"
   ]
  },
  {
   "cell_type": "code",
   "execution_count": 66,
   "id": "16dbe688-8e96-4bf6-81f8-06c9ae172191",
   "metadata": {},
   "outputs": [
    {
     "data": {
      "text/plain": [
       "array([[29, 39, 17, 11, 33, 38, 11, 17, 34, 22],\n",
       "       [11, 30, 31, 31, 22, 37, 27, 39, 22, 20],\n",
       "       [27, 16, 37, 29, 14, 13, 39, 37, 16, 28],\n",
       "       [21, 29, 35, 27, 34, 20, 33, 32, 20, 38],\n",
       "       [10, 36, 33, 19, 31, 13, 26, 31, 34, 35],\n",
       "       [16, 28, 19, 32, 38, 14, 38, 23, 11, 23],\n",
       "       [26, 10, 21, 12, 37, 11, 27, 15, 18, 39],\n",
       "       [17, 20, 20, 23, 13, 29, 39, 30, 32, 16]], dtype=int32)"
      ]
     },
     "execution_count": 66,
     "metadata": {},
     "output_type": "execute_result"
    }
   ],
   "source": [
    "b\n"
   ]
  },
  {
   "cell_type": "code",
   "execution_count": 67,
   "id": "4d8e5869-62e1-42fb-aaf7-3f0297602051",
   "metadata": {},
   "outputs": [
    {
     "data": {
      "text/plain": [
       "array([29, 39, 17, 11, 33, 38, 11, 17, 34, 22], dtype=int32)"
      ]
     },
     "execution_count": 67,
     "metadata": {},
     "output_type": "execute_result"
    }
   ],
   "source": [
    "b[0]"
   ]
  },
  {
   "cell_type": "code",
   "execution_count": 69,
   "id": "07b648be-e29c-45cc-af43-fff459f3996a",
   "metadata": {},
   "outputs": [
    {
     "data": {
      "text/plain": [
       "array([[29, 39, 17, 11, 33, 38, 11, 17, 34, 22],\n",
       "       [11, 30, 31, 31, 22, 37, 27, 39, 22, 20],\n",
       "       [27, 16, 37, 29, 14, 13, 39, 37, 16, 28],\n",
       "       [21, 29, 35, 27, 34, 20, 33, 32, 20, 38],\n",
       "       [10, 36, 33, 19, 31, 13, 26, 31, 34, 35],\n",
       "       [16, 28, 19, 32, 38, 14, 38, 23, 11, 23],\n",
       "       [26, 10, 21, 12, 37, 11, 27, 15, 18, 39],\n",
       "       [17, 20, 20, 23, 13, 29, 39, 30, 32, 16]], dtype=int32)"
      ]
     },
     "execution_count": 69,
     "metadata": {},
     "output_type": "execute_result"
    }
   ],
   "source": [
    "b\n"
   ]
  },
  {
   "cell_type": "code",
   "execution_count": 70,
   "id": "c817c6a9-4b60-48f0-8272-849542d0a505",
   "metadata": {},
   "outputs": [
    {
     "data": {
      "text/plain": [
       "array([[29, 39, 17, 11, 33, 38, 11, 17, 34, 22],\n",
       "       [11, 30, 31, 31, 22, 37, 27, 39, 22, 20],\n",
       "       [27, 16, 37, 29, 14, 13, 39, 37, 16, 28],\n",
       "       [21, 29, 35, 27, 34, 20, 33, 32, 20, 38],\n",
       "       [10, 36, 33, 19, 31, 13, 26, 31, 34, 35]], dtype=int32)"
      ]
     },
     "execution_count": 70,
     "metadata": {},
     "output_type": "execute_result"
    }
   ],
   "source": [
    "b[0:5]"
   ]
  },
  {
   "cell_type": "code",
   "execution_count": 80,
   "id": "8c5afafb-2a10-4725-bf6c-96a4926ae005",
   "metadata": {},
   "outputs": [
    {
     "data": {
      "text/plain": [
       "np.int32(38)"
      ]
     },
     "execution_count": 80,
     "metadata": {},
     "output_type": "execute_result"
    }
   ],
   "source": [
    "b[0,5]"
   ]
  },
  {
   "cell_type": "code",
   "execution_count": 79,
   "id": "6d99436d-87eb-4cdd-aa38-0727247e528c",
   "metadata": {},
   "outputs": [
    {
     "data": {
      "text/plain": [
       "np.int32(23)"
      ]
     },
     "execution_count": 79,
     "metadata": {},
     "output_type": "execute_result"
    }
   ],
   "source": [
    "b[5,-3]"
   ]
  },
  {
   "cell_type": "code",
   "execution_count": 82,
   "id": "36c0b9e6-fd9e-40f1-bc7f-7b5a061326cb",
   "metadata": {},
   "outputs": [
    {
     "data": {
      "text/plain": [
       "array([[ 1,  2],\n",
       "       [ 3,  4],\n",
       "       [ 5,  6],\n",
       "       [ 7,  8],\n",
       "       [ 9, 10],\n",
       "       [11, 12]])"
      ]
     },
     "execution_count": 82,
     "metadata": {},
     "output_type": "execute_result"
    }
   ],
   "source": [
    "p.arange(1,13).reshape(6,2)"
   ]
  },
  {
   "cell_type": "code",
   "execution_count": 83,
   "id": "2674f554-5725-42e3-817c-77cd2e954aa8",
   "metadata": {},
   "outputs": [
    {
     "ename": "ValueError",
     "evalue": "cannot reshape array of size 12 into shape (5,5)",
     "output_type": "error",
     "traceback": [
      "\u001b[31m---------------------------------------------------------------------------\u001b[39m",
      "\u001b[31mValueError\u001b[39m                                Traceback (most recent call last)",
      "\u001b[36mCell\u001b[39m\u001b[36m \u001b[39m\u001b[32mIn[83]\u001b[39m\u001b[32m, line 1\u001b[39m\n\u001b[32m----> \u001b[39m\u001b[32m1\u001b[39m \u001b[43mp\u001b[49m\u001b[43m.\u001b[49m\u001b[43marange\u001b[49m\u001b[43m(\u001b[49m\u001b[32;43m1\u001b[39;49m\u001b[43m,\u001b[49m\u001b[32;43m13\u001b[39;49m\u001b[43m)\u001b[49m\u001b[43m.\u001b[49m\u001b[43mreshape\u001b[49m\u001b[43m(\u001b[49m\u001b[32;43m5\u001b[39;49m\u001b[43m,\u001b[49m\u001b[32;43m5\u001b[39;49m\u001b[43m)\u001b[49m\n",
      "\u001b[31mValueError\u001b[39m: cannot reshape array of size 12 into shape (5,5)"
     ]
    }
   ],
   "source": [
    "p.arange(1,13).reshape(5,5)"
   ]
  },
  {
   "cell_type": "code",
   "execution_count": 85,
   "id": "9261b707-44af-4ca6-8e3e-2986d93be6b4",
   "metadata": {},
   "outputs": [
    {
     "ename": "TypeError",
     "evalue": "'method' object is not subscriptable",
     "output_type": "error",
     "traceback": [
      "\u001b[31m---------------------------------------------------------------------------\u001b[39m",
      "\u001b[31mTypeError\u001b[39m                                 Traceback (most recent call last)",
      "\u001b[36mCell\u001b[39m\u001b[36m \u001b[39m\u001b[32mIn[85]\u001b[39m\u001b[32m, line 1\u001b[39m\n\u001b[32m----> \u001b[39m\u001b[32m1\u001b[39m \u001b[43mp\u001b[49m\u001b[43m.\u001b[49m\u001b[43mrandom\u001b[49m\u001b[43m.\u001b[49m\u001b[43mrandint\u001b[49m\u001b[43m[\u001b[49m\u001b[32;43m20\u001b[39;49m\u001b[43m,\u001b[49m\u001b[32;43m30\u001b[39;49m\u001b[43m]\u001b[49m\n",
      "\u001b[31mTypeError\u001b[39m: 'method' object is not subscriptable"
     ]
    }
   ],
   "source": [
    "p.random.randint[20,30]"
   ]
  },
  {
   "cell_type": "code",
   "execution_count": 86,
   "id": "24870261-9388-4c85-bf60-3703403768f4",
   "metadata": {},
   "outputs": [],
   "source": [
    "h = p.random.randint(20,50,(20,30))"
   ]
  },
  {
   "cell_type": "code",
   "execution_count": 87,
   "id": "60ac8fe7-d7d3-4080-bde8-9eb665041344",
   "metadata": {},
   "outputs": [
    {
     "data": {
      "text/plain": [
       "array([[47, 38, 26, 29, 41, 47, 35, 24, 23, 26, 20, 20, 32, 37, 37, 30,\n",
       "        48, 44, 20, 25, 41, 48, 39, 31, 27, 25, 35, 31, 34, 42],\n",
       "       [22, 33, 44, 37, 27, 47, 37, 44, 35, 41, 22, 43, 49, 49, 40, 46,\n",
       "        49, 46, 44, 20, 35, 33, 25, 30, 43, 43, 24, 23, 27, 29],\n",
       "       [38, 26, 36, 47, 41, 38, 22, 24, 40, 33, 43, 29, 36, 46, 36, 26,\n",
       "        25, 36, 30, 36, 49, 37, 33, 47, 47, 44, 30, 46, 32, 22],\n",
       "       [35, 45, 44, 24, 39, 23, 47, 37, 23, 25, 26, 42, 40, 32, 21, 30,\n",
       "        47, 20, 35, 32, 47, 31, 29, 21, 27, 45, 22, 37, 29, 23],\n",
       "       [28, 24, 39, 39, 39, 26, 43, 27, 28, 24, 38, 28, 37, 28, 38, 44,\n",
       "        41, 24, 42, 32, 38, 28, 40, 30, 45, 28, 45, 38, 37, 31],\n",
       "       [21, 23, 38, 23, 36, 40, 38, 39, 38, 41, 48, 43, 28, 35, 46, 49,\n",
       "        21, 27, 43, 23, 28, 39, 47, 48, 49, 48, 48, 35, 42, 24],\n",
       "       [48, 48, 24, 26, 24, 40, 33, 40, 35, 28, 37, 34, 42, 24, 22, 23,\n",
       "        31, 26, 25, 47, 27, 33, 25, 35, 33, 42, 47, 34, 23, 28],\n",
       "       [43, 32, 28, 40, 25, 27, 30, 37, 25, 38, 36, 25, 32, 24, 40, 41,\n",
       "        23, 29, 43, 39, 49, 20, 32, 41, 29, 33, 40, 49, 20, 37],\n",
       "       [47, 26, 29, 37, 44, 48, 35, 40, 33, 27, 21, 30, 29, 33, 28, 36,\n",
       "        22, 39, 43, 32, 27, 21, 32, 35, 47, 31, 29, 21, 49, 29],\n",
       "       [29, 44, 35, 21, 33, 41, 43, 21, 48, 46, 36, 20, 32, 45, 21, 39,\n",
       "        33, 20, 26, 44, 33, 39, 30, 36, 38, 21, 28, 23, 32, 21],\n",
       "       [47, 36, 31, 24, 20, 27, 35, 33, 41, 30, 46, 43, 44, 39, 26, 47,\n",
       "        21, 25, 37, 31, 48, 33, 41, 21, 49, 32, 35, 38, 27, 21],\n",
       "       [20, 42, 24, 35, 41, 27, 33, 26, 26, 43, 27, 32, 41, 24, 49, 33,\n",
       "        39, 24, 25, 37, 49, 45, 30, 39, 48, 44, 41, 28, 34, 28],\n",
       "       [23, 38, 49, 43, 32, 41, 42, 29, 28, 23, 30, 29, 37, 39, 21, 45,\n",
       "        21, 47, 29, 38, 49, 36, 42, 47, 44, 31, 41, 42, 46, 26],\n",
       "       [48, 23, 37, 40, 45, 39, 26, 43, 20, 36, 21, 49, 24, 38, 49, 38,\n",
       "        44, 21, 22, 47, 21, 32, 20, 36, 47, 43, 47, 26, 42, 31],\n",
       "       [42, 27, 22, 42, 41, 27, 36, 20, 23, 24, 49, 20, 31, 34, 40, 45,\n",
       "        33, 37, 31, 30, 22, 36, 22, 33, 32, 33, 37, 35, 21, 44],\n",
       "       [33, 37, 21, 30, 34, 27, 22, 34, 38, 38, 41, 30, 41, 47, 37, 28,\n",
       "        31, 29, 41, 28, 37, 23, 30, 32, 39, 27, 38, 44, 21, 31],\n",
       "       [26, 40, 37, 41, 33, 34, 45, 21, 25, 37, 45, 40, 29, 22, 47, 33,\n",
       "        24, 39, 24, 33, 39, 34, 31, 24, 31, 47, 44, 42, 23, 34],\n",
       "       [34, 45, 48, 32, 46, 30, 36, 26, 31, 32, 22, 28, 44, 24, 30, 23,\n",
       "        35, 27, 27, 24, 38, 31, 43, 48, 43, 23, 40, 32, 34, 37],\n",
       "       [24, 29, 26, 47, 30, 21, 21, 49, 34, 27, 23, 40, 42, 40, 33, 47,\n",
       "        40, 30, 47, 26, 38, 46, 39, 40, 40, 45, 47, 42, 47, 38],\n",
       "       [42, 23, 37, 47, 22, 43, 26, 28, 36, 26, 22, 26, 23, 40, 25, 30,\n",
       "        32, 27, 31, 32, 46, 29, 42, 38, 47, 20, 28, 49, 22, 24]],\n",
       "      dtype=int32)"
      ]
     },
     "execution_count": 87,
     "metadata": {},
     "output_type": "execute_result"
    }
   ],
   "source": [
    "h"
   ]
  },
  {
   "cell_type": "code",
   "execution_count": 88,
   "id": "ae7c7010-a88a-4340-a1a3-ec49551061ce",
   "metadata": {},
   "outputs": [
    {
     "data": {
      "text/plain": [
       "(20, 30)"
      ]
     },
     "execution_count": 88,
     "metadata": {},
     "output_type": "execute_result"
    }
   ],
   "source": [
    "h.shape"
   ]
  },
  {
   "cell_type": "code",
   "execution_count": 89,
   "id": "7accac72-65d5-4ee8-abcf-1db21fdac084",
   "metadata": {},
   "outputs": [
    {
     "data": {
      "text/plain": [
       "600"
      ]
     },
     "execution_count": 89,
     "metadata": {},
     "output_type": "execute_result"
    }
   ],
   "source": [
    "h.size"
   ]
  },
  {
   "cell_type": "code",
   "execution_count": 91,
   "id": "ac2d0b82-f7f6-486e-a919-373db769d10d",
   "metadata": {},
   "outputs": [],
   "source": [
    "h = p.full((10,20),40)"
   ]
  },
  {
   "cell_type": "code",
   "execution_count": 92,
   "id": "0c444a2f-b51c-4c1c-b915-9d8599286b0e",
   "metadata": {},
   "outputs": [
    {
     "data": {
      "text/plain": [
       "array([[40, 40, 40, 40, 40, 40, 40, 40, 40, 40, 40, 40, 40, 40, 40, 40,\n",
       "        40, 40, 40, 40],\n",
       "       [40, 40, 40, 40, 40, 40, 40, 40, 40, 40, 40, 40, 40, 40, 40, 40,\n",
       "        40, 40, 40, 40],\n",
       "       [40, 40, 40, 40, 40, 40, 40, 40, 40, 40, 40, 40, 40, 40, 40, 40,\n",
       "        40, 40, 40, 40],\n",
       "       [40, 40, 40, 40, 40, 40, 40, 40, 40, 40, 40, 40, 40, 40, 40, 40,\n",
       "        40, 40, 40, 40],\n",
       "       [40, 40, 40, 40, 40, 40, 40, 40, 40, 40, 40, 40, 40, 40, 40, 40,\n",
       "        40, 40, 40, 40],\n",
       "       [40, 40, 40, 40, 40, 40, 40, 40, 40, 40, 40, 40, 40, 40, 40, 40,\n",
       "        40, 40, 40, 40],\n",
       "       [40, 40, 40, 40, 40, 40, 40, 40, 40, 40, 40, 40, 40, 40, 40, 40,\n",
       "        40, 40, 40, 40],\n",
       "       [40, 40, 40, 40, 40, 40, 40, 40, 40, 40, 40, 40, 40, 40, 40, 40,\n",
       "        40, 40, 40, 40],\n",
       "       [40, 40, 40, 40, 40, 40, 40, 40, 40, 40, 40, 40, 40, 40, 40, 40,\n",
       "        40, 40, 40, 40],\n",
       "       [40, 40, 40, 40, 40, 40, 40, 40, 40, 40, 40, 40, 40, 40, 40, 40,\n",
       "        40, 40, 40, 40]])"
      ]
     },
     "execution_count": 92,
     "metadata": {},
     "output_type": "execute_result"
    }
   ],
   "source": [
    "h"
   ]
  }
 ],
 "metadata": {
  "kernelspec": {
   "display_name": "Python 3 (ipykernel)",
   "language": "python",
   "name": "python3"
  },
  "language_info": {
   "codemirror_mode": {
    "name": "ipython",
    "version": 3
   },
   "file_extension": ".py",
   "mimetype": "text/x-python",
   "name": "python",
   "nbconvert_exporter": "python",
   "pygments_lexer": "ipython3",
   "version": "3.13.5"
  }
 },
 "nbformat": 4,
 "nbformat_minor": 5
}
