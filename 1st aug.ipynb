{
 "cells": [
  {
   "cell_type": "code",
   "execution_count": 2,
   "id": "5c3b2996-9cf3-46f7-8bab-0e0783ac1c90",
   "metadata": {},
   "outputs": [
    {
     "name": "stdout",
     "output_type": "stream",
     "text": [
      "HELLO PYTHON\n"
     ]
    }
   ],
   "source": [
    "str1 = 'HELLO PYTHON'\n",
    "print(str1)"
   ]
  },
  {
   "cell_type": "code",
   "execution_count": 3,
   "id": "412611cc-b289-46d3-ae2c-2746cfef334f",
   "metadata": {},
   "outputs": [
    {
     "name": "stdout",
     "output_type": "stream",
     "text": [
      "hello world\n"
     ]
    }
   ],
   "source": [
    "mystr = 'hello world'\n",
    "print(mystr)"
   ]
  },
  {
   "cell_type": "code",
   "execution_count": 4,
   "id": "6e0dd047-84fd-493b-b7e9-f8652418a765",
   "metadata": {},
   "outputs": [
    {
     "name": "stdout",
     "output_type": "stream",
     "text": [
      "hello world\n"
     ]
    }
   ],
   "source": [
    "mystr = \"hello world\"\n",
    "print(mystr)"
   ]
  },
  {
   "cell_type": "code",
   "execution_count": 5,
   "id": "914219cd-3cd2-4add-bc5a-d2b7d34dcbdd",
   "metadata": {},
   "outputs": [
    {
     "name": "stdout",
     "output_type": "stream",
     "text": [
      "hello\n",
      "              world\n"
     ]
    }
   ],
   "source": [
    "mystr = '''hello\n",
    "              world'''\n",
    "print(mystr)"
   ]
  },
  {
   "cell_type": "code",
   "execution_count": 6,
   "id": "cd38e111-9ea1-4ba6-b49a-4fe800b0e40b",
   "metadata": {},
   "outputs": [
    {
     "name": "stdout",
     "output_type": "stream",
     "text": [
      "hello \n",
      "                  world\n"
     ]
    }
   ],
   "source": [
    "mystr = \"\"\"hello \n",
    "                  world\"\"\"\n",
    "print(mystr)"
   ]
  },
  {
   "cell_type": "code",
   "execution_count": 9,
   "id": "e9813ecb-7b00-4db5-8b58-b5dc7b8cd84a",
   "metadata": {},
   "outputs": [
    {
     "name": "stdout",
     "output_type": "stream",
     "text": [
      "Happy  saturday everyone\n"
     ]
    }
   ],
   "source": [
    "mystr = ('Happy ' \n",
    "           ' saturday '\n",
    "            'everyone')\n",
    "print(mystr)"
   ]
  },
  {
   "cell_type": "code",
   "execution_count": 12,
   "id": "43f60527-4f7a-4058-9cb5-a31d286e5efe",
   "metadata": {},
   "outputs": [
    {
     "name": "stdout",
     "output_type": "stream",
     "text": [
      "yahoo yahoo yahoo yahoo yahoo yahoo \n"
     ]
    }
   ],
   "source": [
    "mystr = 'yahoo '\n",
    "mystr = mystr*6\n",
    "print(mystr)\n"
   ]
  },
  {
   "cell_type": "code",
   "execution_count": 13,
   "id": "fab79eae-379e-4164-aab2-5a62dd33c857",
   "metadata": {},
   "outputs": [
    {
     "data": {
      "text/plain": [
       "36"
      ]
     },
     "execution_count": 13,
     "metadata": {},
     "output_type": "execute_result"
    }
   ],
   "source": [
    "len(mystr)"
   ]
  },
  {
   "cell_type": "code",
   "execution_count": 14,
   "id": "0e24a545-544b-4d7e-84ca-7682c733d876",
   "metadata": {},
   "outputs": [
    {
     "data": {
      "text/plain": [
       "'HELLO PYTHON'"
      ]
     },
     "execution_count": 14,
     "metadata": {},
     "output_type": "execute_result"
    }
   ],
   "source": [
    "str1"
   ]
  },
  {
   "cell_type": "code",
   "execution_count": 15,
   "id": "c51ba71b-68ab-4495-879b-62cd2191faa2",
   "metadata": {},
   "outputs": [
    {
     "data": {
      "text/plain": [
       "'H'"
      ]
     },
     "execution_count": 15,
     "metadata": {},
     "output_type": "execute_result"
    }
   ],
   "source": [
    "str1[0]"
   ]
  },
  {
   "cell_type": "code",
   "execution_count": 17,
   "id": "7573c265-c550-4efa-92c8-69c95a708a93",
   "metadata": {},
   "outputs": [
    {
     "data": {
      "text/plain": [
       "'N'"
      ]
     },
     "execution_count": 17,
     "metadata": {},
     "output_type": "execute_result"
    }
   ],
   "source": [
    "str1[len(str1)-1]"
   ]
  },
  {
   "cell_type": "code",
   "execution_count": 18,
   "id": "291095fc-87c7-4533-bb96-b7f87a0dfc0f",
   "metadata": {},
   "outputs": [
    {
     "data": {
      "text/plain": [
       "'N'"
      ]
     },
     "execution_count": 18,
     "metadata": {},
     "output_type": "execute_result"
    }
   ],
   "source": [
    "str1[-1]"
   ]
  },
  {
   "cell_type": "code",
   "execution_count": 20,
   "id": "7f935b32-fcb5-4142-9613-6486fee35028",
   "metadata": {},
   "outputs": [
    {
     "data": {
      "text/plain": [
       "'P'"
      ]
     },
     "execution_count": 20,
     "metadata": {},
     "output_type": "execute_result"
    }
   ],
   "source": [
    "str1[6]"
   ]
  },
  {
   "cell_type": "code",
   "execution_count": 21,
   "id": "6a1e8c41-3020-4361-9349-74f9e296b806",
   "metadata": {},
   "outputs": [
    {
     "data": {
      "text/plain": [
       "' '"
      ]
     },
     "execution_count": 21,
     "metadata": {},
     "output_type": "execute_result"
    }
   ],
   "source": [
    "str1[5]"
   ]
  },
  {
   "cell_type": "code",
   "execution_count": 23,
   "id": "f802b31a-0a8c-4a18-9222-fc042367f64b",
   "metadata": {},
   "outputs": [
    {
     "data": {
      "text/plain": [
       "'HELLO'"
      ]
     },
     "execution_count": 23,
     "metadata": {},
     "output_type": "execute_result"
    }
   ],
   "source": [
    "str1[0:5]"
   ]
  },
  {
   "cell_type": "code",
   "execution_count": 24,
   "id": "4fde7eb3-0cc3-4b93-9eb1-e6d2007bd06b",
   "metadata": {},
   "outputs": [
    {
     "data": {
      "text/plain": [
       "'PYTHON'"
      ]
     },
     "execution_count": 24,
     "metadata": {},
     "output_type": "execute_result"
    }
   ],
   "source": [
    "str1[6:12]"
   ]
  },
  {
   "cell_type": "code",
   "execution_count": 27,
   "id": "09ab8e1c-776e-44ce-81e2-e66a896fa776",
   "metadata": {},
   "outputs": [
    {
     "data": {
      "text/plain": [
       "'THON'"
      ]
     },
     "execution_count": 27,
     "metadata": {},
     "output_type": "execute_result"
    }
   ],
   "source": [
    "str1[-4:]"
   ]
  },
  {
   "cell_type": "code",
   "execution_count": 29,
   "id": "54658120-c60f-445f-9dc4-7342c0371e49",
   "metadata": {},
   "outputs": [
    {
     "data": {
      "text/plain": [
       "'HELL'"
      ]
     },
     "execution_count": 29,
     "metadata": {},
     "output_type": "execute_result"
    }
   ],
   "source": [
    "str1[:4]"
   ]
  },
  {
   "cell_type": "code",
   "execution_count": 30,
   "id": "afd7d21b-7d71-43bb-b299-ad3f5e0822ad",
   "metadata": {},
   "outputs": [
    {
     "data": {
      "text/plain": [
       "'HELLO PYTHON'"
      ]
     },
     "execution_count": 30,
     "metadata": {},
     "output_type": "execute_result"
    }
   ],
   "source": [
    "str1"
   ]
  },
  {
   "cell_type": "code",
   "execution_count": 31,
   "id": "b11b0448-5289-4636-9f56-65369855a392",
   "metadata": {},
   "outputs": [
    {
     "ename": "TypeError",
     "evalue": "'str' object does not support item assignment",
     "output_type": "error",
     "traceback": [
      "\u001b[31m---------------------------------------------------------------------------\u001b[39m",
      "\u001b[31mTypeError\u001b[39m                                 Traceback (most recent call last)",
      "\u001b[36mCell\u001b[39m\u001b[36m \u001b[39m\u001b[32mIn[31]\u001b[39m\u001b[32m, line 1\u001b[39m\n\u001b[32m----> \u001b[39m\u001b[32m1\u001b[39m \u001b[43mstr1\u001b[49m\u001b[43m[\u001b[49m\u001b[32;43m0\u001b[39;49m\u001b[43m:\u001b[49m\u001b[32;43m5\u001b[39;49m\u001b[43m]\u001b[49m = \u001b[33m'\u001b[39m\u001b[33mHOLLA\u001b[39m\u001b[33m'\u001b[39m\n",
      "\u001b[31mTypeError\u001b[39m: 'str' object does not support item assignment"
     ]
    }
   ],
   "source": [
    "str1[0:5] = 'HOLLA'"
   ]
  },
  {
   "cell_type": "code",
   "execution_count": 33,
   "id": "2c64594c-b6a7-4415-a1b6-ec7db698cdec",
   "metadata": {},
   "outputs": [],
   "source": [
    "del str1"
   ]
  },
  {
   "cell_type": "code",
   "execution_count": 34,
   "id": "7409e062-b59d-4855-8378-25b5eb8a7209",
   "metadata": {},
   "outputs": [
    {
     "ename": "NameError",
     "evalue": "name 'str1' is not defined",
     "output_type": "error",
     "traceback": [
      "\u001b[31m---------------------------------------------------------------------------\u001b[39m",
      "\u001b[31mNameError\u001b[39m                                 Traceback (most recent call last)",
      "\u001b[36mCell\u001b[39m\u001b[36m \u001b[39m\u001b[32mIn[34]\u001b[39m\u001b[32m, line 1\u001b[39m\n\u001b[32m----> \u001b[39m\u001b[32m1\u001b[39m \u001b[38;5;28mprint\u001b[39m(\u001b[43mstr1\u001b[49m)\n",
      "\u001b[31mNameError\u001b[39m: name 'str1' is not defined"
     ]
    }
   ],
   "source": [
    "print(str1)"
   ]
  }
 ],
 "metadata": {
  "kernelspec": {
   "display_name": "Python 3 (ipykernel)",
   "language": "python",
   "name": "python3"
  },
  "language_info": {
   "codemirror_mode": {
    "name": "ipython",
    "version": 3
   },
   "file_extension": ".py",
   "mimetype": "text/x-python",
   "name": "python",
   "nbconvert_exporter": "python",
   "pygments_lexer": "ipython3",
   "version": "3.13.5"
  }
 },
 "nbformat": 4,
 "nbformat_minor": 5
}
