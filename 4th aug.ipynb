{
 "cells": [
  {
   "cell_type": "code",
   "execution_count": 2,
   "id": "c2406f17-c4d8-4c86-8563-e542677fd32e",
   "metadata": {},
   "outputs": [],
   "source": [
    "tup1 = ()"
   ]
  },
  {
   "cell_type": "code",
   "execution_count": 3,
   "id": "c228e501-bad3-40d7-af1c-b1379d94903e",
   "metadata": {},
   "outputs": [],
   "source": [
    "tup2 = (10,30,60)"
   ]
  },
  {
   "cell_type": "code",
   "execution_count": 4,
   "id": "db23dbf6-78ee-460d-a3e2-6ce9351ae308",
   "metadata": {},
   "outputs": [],
   "source": [
    "tup3 = (10,77,30,60,74,92,72)"
   ]
  },
  {
   "cell_type": "code",
   "execution_count": 5,
   "id": "3a940ea2-80fc-4f6c-8636-528abf0afa87",
   "metadata": {},
   "outputs": [],
   "source": [
    "tup4 = ('one','two','three')"
   ]
  },
  {
   "cell_type": "code",
   "execution_count": 6,
   "id": "121c377a-8961-4bfa-bb4b-6fbd0924b8ee",
   "metadata": {},
   "outputs": [],
   "source": [
    "tup5 = ('prakash',35,(393,18),(230,70))"
   ]
  },
  {
   "cell_type": "code",
   "execution_count": 7,
   "id": "a26b1084-4cda-40cc-93b8-3adb2f2c3288",
   "metadata": {},
   "outputs": [],
   "source": [
    "tup6 = (200,'prakash',32.4)"
   ]
  },
  {
   "cell_type": "code",
   "execution_count": 9,
   "id": "73f933e5-c5c2-40a8-a3ae-4845eaf9a49f",
   "metadata": {},
   "outputs": [],
   "source": [
    "tup7 = ('prakash',35,[393,18],[45,77],{'ajay','bijay'},(230,70))"
   ]
  },
  {
   "cell_type": "code",
   "execution_count": 10,
   "id": "91b15a6c-5716-44b1-a83f-fc98da1612d9",
   "metadata": {},
   "outputs": [
    {
     "data": {
      "text/plain": [
       "6"
      ]
     },
     "execution_count": 10,
     "metadata": {},
     "output_type": "execute_result"
    }
   ],
   "source": [
    "len(tup7)"
   ]
  },
  {
   "cell_type": "code",
   "execution_count": 11,
   "id": "d9433526-8949-451e-94a0-6d048fe3a9bb",
   "metadata": {},
   "outputs": [
    {
     "data": {
      "text/plain": [
       "10"
      ]
     },
     "execution_count": 11,
     "metadata": {},
     "output_type": "execute_result"
    }
   ],
   "source": [
    "tup2[0]"
   ]
  },
  {
   "cell_type": "code",
   "execution_count": 12,
   "id": "79207a84-5b5f-43f2-81f7-dd7247dda21f",
   "metadata": {},
   "outputs": [
    {
     "data": {
      "text/plain": [
       "'one'"
      ]
     },
     "execution_count": 12,
     "metadata": {},
     "output_type": "execute_result"
    }
   ],
   "source": [
    "tup4[0]"
   ]
  },
  {
   "cell_type": "code",
   "execution_count": 13,
   "id": "58bad08d-5218-4f9a-8951-b56ff2ce9b7c",
   "metadata": {},
   "outputs": [
    {
     "data": {
      "text/plain": [
       "'o'"
      ]
     },
     "execution_count": 13,
     "metadata": {},
     "output_type": "execute_result"
    }
   ],
   "source": [
    "tup4[0][0]"
   ]
  },
  {
   "cell_type": "code",
   "execution_count": 15,
   "id": "a048c93b-b28d-472f-8797-ccde158b8486",
   "metadata": {},
   "outputs": [
    {
     "data": {
      "text/plain": [
       "'three'"
      ]
     },
     "execution_count": 15,
     "metadata": {},
     "output_type": "execute_result"
    }
   ],
   "source": [
    "tup4[-1]"
   ]
  },
  {
   "cell_type": "code",
   "execution_count": 16,
   "id": "da83e2d6-d36a-4727-bf43-a03725bf3d32",
   "metadata": {},
   "outputs": [
    {
     "data": {
      "text/plain": [
       "(230, 70)"
      ]
     },
     "execution_count": 16,
     "metadata": {},
     "output_type": "execute_result"
    }
   ],
   "source": [
    "tup5[-1]"
   ]
  },
  {
   "cell_type": "code",
   "execution_count": 17,
   "id": "1cba043b-f6ed-4fa9-98f9-f1a762615c41",
   "metadata": {},
   "outputs": [],
   "source": [
    "mytup = ('one','two','three','four','five','six','seven','eight')"
   ]
  },
  {
   "cell_type": "code",
   "execution_count": 18,
   "id": "e7188b3c-281c-4f1d-b012-ffb7d046d77c",
   "metadata": {},
   "outputs": [
    {
     "data": {
      "text/plain": [
       "('one', 'two', 'three')"
      ]
     },
     "execution_count": 18,
     "metadata": {},
     "output_type": "execute_result"
    }
   ],
   "source": [
    "mytup[0:3]"
   ]
  },
  {
   "cell_type": "code",
   "execution_count": 19,
   "id": "296139d1-1ada-42e8-8db9-162172bb31fa",
   "metadata": {},
   "outputs": [
    {
     "data": {
      "text/plain": [
       "('three', 'four', 'five')"
      ]
     },
     "execution_count": 19,
     "metadata": {},
     "output_type": "execute_result"
    }
   ],
   "source": [
    "mytup[2:5]"
   ]
  },
  {
   "cell_type": "code",
   "execution_count": 20,
   "id": "cfbb88c5-4f68-4f21-803e-87a77b14c6f8",
   "metadata": {},
   "outputs": [
    {
     "data": {
      "text/plain": [
       "('one', 'two', 'three')"
      ]
     },
     "execution_count": 20,
     "metadata": {},
     "output_type": "execute_result"
    }
   ],
   "source": [
    "mytup[:3]"
   ]
  },
  {
   "cell_type": "code",
   "execution_count": 21,
   "id": "b42d4d6a-45a9-452f-accb-7cc011714a29",
   "metadata": {},
   "outputs": [
    {
     "data": {
      "text/plain": [
       "('one', 'two')"
      ]
     },
     "execution_count": 21,
     "metadata": {},
     "output_type": "execute_result"
    }
   ],
   "source": [
    "mytup[:2]"
   ]
  },
  {
   "cell_type": "code",
   "execution_count": 22,
   "id": "ccd10908-af5c-4241-9c9f-c05c4b790e6b",
   "metadata": {},
   "outputs": [
    {
     "data": {
      "text/plain": [
       "('six', 'seven', 'eight')"
      ]
     },
     "execution_count": 22,
     "metadata": {},
     "output_type": "execute_result"
    }
   ],
   "source": [
    "mytup[-3:]"
   ]
  },
  {
   "cell_type": "code",
   "execution_count": 23,
   "id": "6ee9cd38-2e47-44fc-bf37-44221faf1c40",
   "metadata": {},
   "outputs": [
    {
     "data": {
      "text/plain": [
       "('seven', 'eight')"
      ]
     },
     "execution_count": 23,
     "metadata": {},
     "output_type": "execute_result"
    }
   ],
   "source": [
    "mytup[-2:]"
   ]
  },
  {
   "cell_type": "code",
   "execution_count": 24,
   "id": "ad508587-ba57-4fc2-9251-2f3f1cecda5b",
   "metadata": {},
   "outputs": [
    {
     "data": {
      "text/plain": [
       "('eight',)"
      ]
     },
     "execution_count": 24,
     "metadata": {},
     "output_type": "execute_result"
    }
   ],
   "source": [
    "mytup[-1:]"
   ]
  },
  {
   "cell_type": "code",
   "execution_count": 25,
   "id": "6551270a-15d5-44e8-b6a7-f05b207d34fc",
   "metadata": {},
   "outputs": [
    {
     "data": {
      "text/plain": [
       "('one', 'two', 'three', 'four', 'five', 'six', 'seven', 'eight')"
      ]
     },
     "execution_count": 25,
     "metadata": {},
     "output_type": "execute_result"
    }
   ],
   "source": [
    "mytup[:]"
   ]
  },
  {
   "cell_type": "code",
   "execution_count": 26,
   "id": "642e4037-d8e9-47fa-b61f-a623de22d23f",
   "metadata": {},
   "outputs": [
    {
     "data": {
      "text/plain": [
       "('one', 'two', 'three', 'four', 'five', 'six', 'seven', 'eight')"
      ]
     },
     "execution_count": 26,
     "metadata": {},
     "output_type": "execute_result"
    }
   ],
   "source": [
    "mytup"
   ]
  },
  {
   "cell_type": "code",
   "execution_count": 27,
   "id": "62ffe493-f7bd-43ce-a7dd-c2e59e4b2828",
   "metadata": {},
   "outputs": [
    {
     "ename": "TypeError",
     "evalue": "'tuple' object doesn't support item deletion",
     "output_type": "error",
     "traceback": [
      "\u001b[31m---------------------------------------------------------------------------\u001b[39m",
      "\u001b[31mTypeError\u001b[39m                                 Traceback (most recent call last)",
      "\u001b[36mCell\u001b[39m\u001b[36m \u001b[39m\u001b[32mIn[27]\u001b[39m\u001b[32m, line 1\u001b[39m\n\u001b[32m----> \u001b[39m\u001b[32m1\u001b[39m \u001b[38;5;28;01mdel\u001b[39;00m \u001b[43mmytup\u001b[49m\u001b[43m[\u001b[49m\u001b[32;43m0\u001b[39;49m\u001b[43m]\u001b[49m\n",
      "\u001b[31mTypeError\u001b[39m: 'tuple' object doesn't support item deletion"
     ]
    }
   ],
   "source": [
    "del mytup[0]"
   ]
  },
  {
   "cell_type": "code",
   "execution_count": 29,
   "id": "04847d7d-2a0d-4bfd-b092-0a17c43dbe92",
   "metadata": {},
   "outputs": [
    {
     "ename": "TypeError",
     "evalue": "'tuple' object does not support item assignment",
     "output_type": "error",
     "traceback": [
      "\u001b[31m---------------------------------------------------------------------------\u001b[39m",
      "\u001b[31mTypeError\u001b[39m                                 Traceback (most recent call last)",
      "\u001b[36mCell\u001b[39m\u001b[36m \u001b[39m\u001b[32mIn[29]\u001b[39m\u001b[32m, line 1\u001b[39m\n\u001b[32m----> \u001b[39m\u001b[32m1\u001b[39m \u001b[43mmytup\u001b[49m\u001b[43m[\u001b[49m\u001b[32;43m0\u001b[39;49m\u001b[43m]\u001b[49m = \u001b[32m1\u001b[39m\n",
      "\u001b[31mTypeError\u001b[39m: 'tuple' object does not support item assignment"
     ]
    }
   ],
   "source": [
    "mytup[0] = 1"
   ]
  },
  {
   "cell_type": "code",
   "execution_count": 30,
   "id": "7735a439-aef9-4be5-8f0d-669a23456310",
   "metadata": {},
   "outputs": [],
   "source": [
    "del mytup"
   ]
  },
  {
   "cell_type": "code",
   "execution_count": 31,
   "id": "5265be35-ad97-41ab-bc56-55fbe019c9b6",
   "metadata": {},
   "outputs": [
    {
     "ename": "NameError",
     "evalue": "name 'mytup' is not defined",
     "output_type": "error",
     "traceback": [
      "\u001b[31m---------------------------------------------------------------------------\u001b[39m",
      "\u001b[31mNameError\u001b[39m                                 Traceback (most recent call last)",
      "\u001b[36mCell\u001b[39m\u001b[36m \u001b[39m\u001b[32mIn[31]\u001b[39m\u001b[32m, line 1\u001b[39m\n\u001b[32m----> \u001b[39m\u001b[32m1\u001b[39m \u001b[43mmytup\u001b[49m\n",
      "\u001b[31mNameError\u001b[39m: name 'mytup' is not defined"
     ]
    }
   ],
   "source": [
    "mytup"
   ]
  },
  {
   "cell_type": "code",
   "execution_count": 32,
   "id": "02319fe6-b1af-4a7f-8db4-d8417d04171d",
   "metadata": {},
   "outputs": [],
   "source": [
    "mytup = ('one','two','three','four','five','six','seven','eight')\n"
   ]
  },
  {
   "cell_type": "code",
   "execution_count": 33,
   "id": "14f07a6c-5264-4ce4-8691-2bda99d9ad33",
   "metadata": {},
   "outputs": [
    {
     "name": "stdout",
     "output_type": "stream",
     "text": [
      "one\n",
      "two\n",
      "three\n",
      "four\n",
      "five\n",
      "six\n",
      "seven\n",
      "eight\n"
     ]
    }
   ],
   "source": [
    "for i in mytup:\n",
    "    print(i)"
   ]
  },
  {
   "cell_type": "code",
   "execution_count": 35,
   "id": "327462af-a807-4529-aa07-cca37e36be43",
   "metadata": {},
   "outputs": [
    {
     "name": "stdout",
     "output_type": "stream",
     "text": [
      "(0, 'one')\n",
      "(1, 'two')\n",
      "(2, 'three')\n",
      "(3, 'four')\n",
      "(4, 'five')\n",
      "(5, 'six')\n",
      "(6, 'seven')\n",
      "(7, 'eight')\n"
     ]
    }
   ],
   "source": [
    "for i in enumerate (mytup):\n",
    "    print(i)"
   ]
  },
  {
   "cell_type": "code",
   "execution_count": 36,
   "id": "0c4ffd3d-3f5a-42a7-a212-d4dffdb31c95",
   "metadata": {},
   "outputs": [
    {
     "data": {
      "text/plain": [
       "('one', 'two', 'three', 'four', 'five', 'six', 'seven', 'eight')"
      ]
     },
     "execution_count": 36,
     "metadata": {},
     "output_type": "execute_result"
    }
   ],
   "source": [
    "mytup"
   ]
  },
  {
   "cell_type": "code",
   "execution_count": 37,
   "id": "c54d1f6c-62a9-49fb-a4a6-fc60583e10f5",
   "metadata": {},
   "outputs": [
    {
     "name": "stdout",
     "output_type": "stream",
     "text": [
      "One is present in tup\n"
     ]
    }
   ],
   "source": [
    "if 'one' in mytup:\n",
    "    print('One is present in tup')\n",
    "else:\n",
    "    print('One is not present in tup')"
   ]
  },
  {
   "cell_type": "code",
   "execution_count": 38,
   "id": "6b95c63d-2ef9-4357-91e4-53fd023006d8",
   "metadata": {},
   "outputs": [
    {
     "name": "stdout",
     "output_type": "stream",
     "text": [
      "Eleven is not present in tup\n"
     ]
    }
   ],
   "source": [
    "if 'Eleven' in mytup:\n",
    "    print('Eleven is present in tup')\n",
    "else:\n",
    "    print('Eleven is not present in tup')"
   ]
  },
  {
   "cell_type": "code",
   "execution_count": 39,
   "id": "ab92ed9d-08d9-41c3-a637-cb1f88996802",
   "metadata": {},
   "outputs": [
    {
     "data": {
      "text/plain": [
       "('one', 'two', 'three', 'four', 'five', 'six', 'seven', 'eight')"
      ]
     },
     "execution_count": 39,
     "metadata": {},
     "output_type": "execute_result"
    }
   ],
   "source": [
    "mytup"
   ]
  },
  {
   "cell_type": "code",
   "execution_count": 40,
   "id": "de210f4d-8c50-4534-b19f-90ce9ac7d9b9",
   "metadata": {},
   "outputs": [
    {
     "data": {
      "text/plain": [
       "0"
      ]
     },
     "execution_count": 40,
     "metadata": {},
     "output_type": "execute_result"
    }
   ],
   "source": [
    "mytup.index('one')"
   ]
  },
  {
   "cell_type": "code",
   "execution_count": 45,
   "id": "acd923f1-84ac-4f9d-b4cb-c6c81cc8135f",
   "metadata": {},
   "outputs": [
    {
     "data": {
      "text/plain": [
       "4"
      ]
     },
     "execution_count": 45,
     "metadata": {},
     "output_type": "execute_result"
    }
   ],
   "source": [
    "mytup.index('five')"
   ]
  },
  {
   "cell_type": "code",
   "execution_count": 47,
   "id": "a284c21e-140a-4c65-90a7-a504a1e1fc31",
   "metadata": {},
   "outputs": [],
   "source": [
    "mytup1 = ('one', 'one', 'three', 'one', 'five', 'six', 'two', 'eight')"
   ]
  },
  {
   "cell_type": "code",
   "execution_count": 48,
   "id": "82070cd3-aadc-47fa-8c3b-0492229fcfb6",
   "metadata": {},
   "outputs": [
    {
     "data": {
      "text/plain": [
       "('one', 'one', 'three', 'one', 'five', 'six', 'two', 'eight')"
      ]
     },
     "execution_count": 48,
     "metadata": {},
     "output_type": "execute_result"
    }
   ],
   "source": [
    "mytup1"
   ]
  },
  {
   "cell_type": "code",
   "execution_count": 49,
   "id": "54cc1dad-5c47-4a2d-8cff-5f02a77cd5aa",
   "metadata": {},
   "outputs": [
    {
     "data": {
      "text/plain": [
       "0"
      ]
     },
     "execution_count": 49,
     "metadata": {},
     "output_type": "execute_result"
    }
   ],
   "source": [
    "mytup1.index('one')"
   ]
  },
  {
   "cell_type": "code",
   "execution_count": 50,
   "id": "42123ced-e21d-4be8-831c-1b696deef922",
   "metadata": {},
   "outputs": [],
   "source": [
    "mytup2 = (93,83,3,47,73)"
   ]
  },
  {
   "cell_type": "code",
   "execution_count": 51,
   "id": "ec37fac6-c6e8-4e54-a0ed-ae3ba935e843",
   "metadata": {},
   "outputs": [
    {
     "data": {
      "text/plain": [
       "[3, 47, 73, 83, 93]"
      ]
     },
     "execution_count": 51,
     "metadata": {},
     "output_type": "execute_result"
    }
   ],
   "source": [
    "sorted(mytup2)"
   ]
  },
  {
   "cell_type": "code",
   "execution_count": null,
   "id": "7306a1c4-659f-4400-a8a4-57c578cd0bde",
   "metadata": {},
   "outputs": [],
   "source": []
  }
 ],
 "metadata": {
  "kernelspec": {
   "display_name": "Python 3 (ipykernel)",
   "language": "python",
   "name": "python3"
  },
  "language_info": {
   "codemirror_mode": {
    "name": "ipython",
    "version": 3
   },
   "file_extension": ".py",
   "mimetype": "text/x-python",
   "name": "python",
   "nbconvert_exporter": "python",
   "pygments_lexer": "ipython3",
   "version": "3.13.5"
  }
 },
 "nbformat": 4,
 "nbformat_minor": 5
}
