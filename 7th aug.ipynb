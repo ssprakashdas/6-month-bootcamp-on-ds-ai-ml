{
 "cells": [
  {
   "cell_type": "code",
   "execution_count": 5,
   "id": "ef284458-b5d0-4d36-b4ca-24fa3a043999",
   "metadata": {},
   "outputs": [],
   "source": [
    "x1,y1 = 10,15"
   ]
  },
  {
   "cell_type": "code",
   "execution_count": 6,
   "id": "43178b21-dc11-453b-8cca-c4079089d619",
   "metadata": {},
   "outputs": [
    {
     "data": {
      "text/plain": [
       "25"
      ]
     },
     "execution_count": 6,
     "metadata": {},
     "output_type": "execute_result"
    }
   ],
   "source": [
    "x1 + y1"
   ]
  },
  {
   "cell_type": "code",
   "execution_count": 8,
   "id": "85c20226-8017-4730-9bea-48c06cb839f4",
   "metadata": {},
   "outputs": [
    {
     "data": {
      "text/plain": [
       "-5"
      ]
     },
     "execution_count": 8,
     "metadata": {},
     "output_type": "execute_result"
    }
   ],
   "source": [
    "x1 - y1"
   ]
  },
  {
   "cell_type": "code",
   "execution_count": 11,
   "id": "0beb2942-7b2b-4be4-8cd8-a71cc613fc97",
   "metadata": {},
   "outputs": [
    {
     "data": {
      "text/plain": [
       "150"
      ]
     },
     "execution_count": 11,
     "metadata": {},
     "output_type": "execute_result"
    }
   ],
   "source": [
    "x1 * y1"
   ]
  },
  {
   "cell_type": "code",
   "execution_count": 13,
   "id": "522e9e55-e576-4fb1-b042-f05f4d2d4b55",
   "metadata": {},
   "outputs": [
    {
     "data": {
      "text/plain": [
       "0.6666666666666666"
      ]
     },
     "execution_count": 13,
     "metadata": {},
     "output_type": "execute_result"
    }
   ],
   "source": [
    "x1 / y1"
   ]
  },
  {
   "cell_type": "code",
   "execution_count": 15,
   "id": "45cca8de-f6e6-48dd-829a-86e575dcaa65",
   "metadata": {},
   "outputs": [
    {
     "data": {
      "text/plain": [
       "0"
      ]
     },
     "execution_count": 15,
     "metadata": {},
     "output_type": "execute_result"
    }
   ],
   "source": [
    "x1 // y1"
   ]
  },
  {
   "cell_type": "code",
   "execution_count": 17,
   "id": "23ca5ad6-dd88-4bc6-9a1d-1b499c1f14ee",
   "metadata": {},
   "outputs": [
    {
     "data": {
      "text/plain": [
       "10"
      ]
     },
     "execution_count": 17,
     "metadata": {},
     "output_type": "execute_result"
    }
   ],
   "source": [
    "x1 % y1"
   ]
  },
  {
   "cell_type": "code",
   "execution_count": 19,
   "id": "a4c0a135-9654-4e90-87c6-61c9c9974515",
   "metadata": {},
   "outputs": [
    {
     "data": {
      "text/plain": [
       "1000000000000000"
      ]
     },
     "execution_count": 19,
     "metadata": {},
     "output_type": "execute_result"
    }
   ],
   "source": [
    "x1 ** y1"
   ]
  },
  {
   "cell_type": "code",
   "execution_count": 21,
   "id": "4145e353-a421-4607-9344-456e0e36a030",
   "metadata": {},
   "outputs": [
    {
     "data": {
      "text/plain": [
       "8"
      ]
     },
     "execution_count": 21,
     "metadata": {},
     "output_type": "execute_result"
    }
   ],
   "source": [
    "2 ** 3"
   ]
  },
  {
   "cell_type": "code",
   "execution_count": 23,
   "id": "d84701f1-3cb4-48ed-af0e-c35fe44972a9",
   "metadata": {},
   "outputs": [],
   "source": [
    "x = 2"
   ]
  },
  {
   "cell_type": "code",
   "execution_count": 25,
   "id": "6ef1802e-382f-4317-ba20-a189de5c0f5a",
   "metadata": {},
   "outputs": [],
   "source": [
    "x = x + 2"
   ]
  },
  {
   "cell_type": "code",
   "execution_count": 27,
   "id": "b69dd36a-0e47-4d91-b292-633c882e309e",
   "metadata": {},
   "outputs": [
    {
     "data": {
      "text/plain": [
       "6"
      ]
     },
     "execution_count": 27,
     "metadata": {},
     "output_type": "execute_result"
    }
   ],
   "source": [
    "x"
   ]
  },
  {
   "cell_type": "code",
   "execution_count": 28,
   "id": "7159c0bf-ed8a-4408-9b0b-cc9fa777fe5c",
   "metadata": {},
   "outputs": [],
   "source": [
    "x += 2"
   ]
  },
  {
   "cell_type": "code",
   "execution_count": 30,
   "id": "fa91ff23-d00f-4774-a468-c2258e189d43",
   "metadata": {},
   "outputs": [
    {
     "data": {
      "text/plain": [
       "8"
      ]
     },
     "execution_count": 30,
     "metadata": {},
     "output_type": "execute_result"
    }
   ],
   "source": [
    "x"
   ]
  },
  {
   "cell_type": "code",
   "execution_count": 32,
   "id": "f0013a68-14af-43f1-8d10-e39f60a73d19",
   "metadata": {},
   "outputs": [],
   "source": [
    "x += 2"
   ]
  },
  {
   "cell_type": "code",
   "execution_count": 33,
   "id": "47cd8e9e-8598-4553-9efb-975351d15a57",
   "metadata": {},
   "outputs": [
    {
     "data": {
      "text/plain": [
       "12"
      ]
     },
     "execution_count": 33,
     "metadata": {},
     "output_type": "execute_result"
    }
   ],
   "source": [
    "x"
   ]
  },
  {
   "cell_type": "code",
   "execution_count": 35,
   "id": "c13d0a40-db34-446f-9250-ee63fb4caada",
   "metadata": {},
   "outputs": [],
   "source": [
    "x *= 2"
   ]
  },
  {
   "cell_type": "code",
   "execution_count": 36,
   "id": "c63b5ecd-248e-4782-9378-126f96f478cd",
   "metadata": {},
   "outputs": [
    {
     "data": {
      "text/plain": [
       "48"
      ]
     },
     "execution_count": 36,
     "metadata": {},
     "output_type": "execute_result"
    }
   ],
   "source": [
    "x\n"
   ]
  },
  {
   "cell_type": "code",
   "execution_count": 38,
   "id": "0f6a4572-c9c9-42d7-9be7-16ba34dcf570",
   "metadata": {},
   "outputs": [],
   "source": [
    "x -= 2"
   ]
  },
  {
   "cell_type": "code",
   "execution_count": 39,
   "id": "bc4cc836-b119-4463-9a38-573bd3402c65",
   "metadata": {},
   "outputs": [
    {
     "data": {
      "text/plain": [
       "44"
      ]
     },
     "execution_count": 39,
     "metadata": {},
     "output_type": "execute_result"
    }
   ],
   "source": [
    "x"
   ]
  },
  {
   "cell_type": "code",
   "execution_count": 41,
   "id": "e4807969-4a86-43ea-b730-8f02b1155109",
   "metadata": {},
   "outputs": [],
   "source": [
    "x /= 2"
   ]
  },
  {
   "cell_type": "code",
   "execution_count": 42,
   "id": "c6d96ca8-4d02-4cec-b768-f4ffe88b5be6",
   "metadata": {},
   "outputs": [
    {
     "data": {
      "text/plain": [
       "11.0"
      ]
     },
     "execution_count": 42,
     "metadata": {},
     "output_type": "execute_result"
    }
   ],
   "source": [
    "x"
   ]
  },
  {
   "cell_type": "code",
   "execution_count": 44,
   "id": "13381cff-2024-49c1-8489-3687b3901329",
   "metadata": {},
   "outputs": [],
   "source": [
    "a,b = 5,6"
   ]
  },
  {
   "cell_type": "code",
   "execution_count": 46,
   "id": "246fbeda-758f-4adf-9062-8c5d4d982e05",
   "metadata": {},
   "outputs": [
    {
     "data": {
      "text/plain": [
       "5"
      ]
     },
     "execution_count": 46,
     "metadata": {},
     "output_type": "execute_result"
    }
   ],
   "source": [
    "a"
   ]
  },
  {
   "cell_type": "code",
   "execution_count": 47,
   "id": "1002ed9b-1ab3-4bd3-bf9c-85f82852f119",
   "metadata": {},
   "outputs": [
    {
     "data": {
      "text/plain": [
       "6"
      ]
     },
     "execution_count": 47,
     "metadata": {},
     "output_type": "execute_result"
    }
   ],
   "source": [
    "b"
   ]
  },
  {
   "cell_type": "code",
   "execution_count": 50,
   "id": "cd8d1c60-6978-4404-9e20-3ae226caefd2",
   "metadata": {},
   "outputs": [],
   "source": [
    "n = 7"
   ]
  },
  {
   "cell_type": "code",
   "execution_count": 53,
   "id": "537b7d1a-7ca8-4ab8-89f2-2a14664a4234",
   "metadata": {},
   "outputs": [],
   "source": [
    "m = -(n)"
   ]
  },
  {
   "cell_type": "code",
   "execution_count": 55,
   "id": "c6e40fa0-3f58-403f-8246-a0f697843909",
   "metadata": {},
   "outputs": [
    {
     "data": {
      "text/plain": [
       "-7"
      ]
     },
     "execution_count": 55,
     "metadata": {},
     "output_type": "execute_result"
    }
   ],
   "source": [
    "m"
   ]
  },
  {
   "cell_type": "code",
   "execution_count": 56,
   "id": "85e385c7-82c3-4f16-80ad-61a71c819456",
   "metadata": {},
   "outputs": [
    {
     "data": {
      "text/plain": [
       "7"
      ]
     },
     "execution_count": 56,
     "metadata": {},
     "output_type": "execute_result"
    }
   ],
   "source": [
    "n"
   ]
  },
  {
   "cell_type": "code",
   "execution_count": 57,
   "id": "5219f356-05c0-407f-8cf8-df976abc2d32",
   "metadata": {},
   "outputs": [
    {
     "data": {
      "text/plain": [
       "-7"
      ]
     },
     "execution_count": 57,
     "metadata": {},
     "output_type": "execute_result"
    }
   ],
   "source": [
    "-n"
   ]
  },
  {
   "cell_type": "code",
   "execution_count": 59,
   "id": "0a503f65-6fd5-45e5-b3c2-610beb48ac8d",
   "metadata": {},
   "outputs": [],
   "source": [
    "a = 7\n",
    "b = 5"
   ]
  },
  {
   "cell_type": "code",
   "execution_count": 61,
   "id": "fbfbc5e5-6e54-4090-b049-02044e163dd5",
   "metadata": {},
   "outputs": [
    {
     "data": {
      "text/plain": [
       "False"
      ]
     },
     "execution_count": 61,
     "metadata": {},
     "output_type": "execute_result"
    }
   ],
   "source": [
    "a == b"
   ]
  },
  {
   "cell_type": "code",
   "execution_count": 63,
   "id": "3be8b9fa-3098-49db-b8be-16d1bec795b2",
   "metadata": {},
   "outputs": [
    {
     "data": {
      "text/plain": [
       "False"
      ]
     },
     "execution_count": 63,
     "metadata": {},
     "output_type": "execute_result"
    }
   ],
   "source": [
    "a < b"
   ]
  },
  {
   "cell_type": "code",
   "execution_count": 65,
   "id": "fb9ab9d8-27c4-4cd6-8aae-c1569e8296e7",
   "metadata": {},
   "outputs": [
    {
     "data": {
      "text/plain": [
       "True"
      ]
     },
     "execution_count": 65,
     "metadata": {},
     "output_type": "execute_result"
    }
   ],
   "source": [
    "a > b"
   ]
  },
  {
   "cell_type": "code",
   "execution_count": 67,
   "id": "5d11c949-a23d-407c-82cd-de1443f09b2f",
   "metadata": {},
   "outputs": [
    {
     "data": {
      "text/plain": [
       "False"
      ]
     },
     "execution_count": 67,
     "metadata": {},
     "output_type": "execute_result"
    }
   ],
   "source": [
    "a == b"
   ]
  },
  {
   "cell_type": "code",
   "execution_count": 70,
   "id": "b1d93757-c545-4ffe-b641-7bf4307174f0",
   "metadata": {},
   "outputs": [],
   "source": [
    "a = b"
   ]
  },
  {
   "cell_type": "code",
   "execution_count": 72,
   "id": "0bdce0d5-26fd-474f-874a-c7da0ba3e34c",
   "metadata": {},
   "outputs": [
    {
     "data": {
      "text/plain": [
       "False"
      ]
     },
     "execution_count": 72,
     "metadata": {},
     "output_type": "execute_result"
    }
   ],
   "source": [
    "a != b"
   ]
  },
  {
   "cell_type": "code",
   "execution_count": 74,
   "id": "0827dc58-4280-45ac-8f35-497bb824a09b",
   "metadata": {},
   "outputs": [],
   "source": [
    "b =10"
   ]
  },
  {
   "cell_type": "code",
   "execution_count": 76,
   "id": "36536f71-5d27-426e-9731-a4161d07f35c",
   "metadata": {},
   "outputs": [
    {
     "data": {
      "text/plain": [
       "False"
      ]
     },
     "execution_count": 76,
     "metadata": {},
     "output_type": "execute_result"
    }
   ],
   "source": [
    "a == b"
   ]
  },
  {
   "cell_type": "code",
   "execution_count": 78,
   "id": "9faffd8c-02ed-49c3-a7f8-f7d40da03599",
   "metadata": {},
   "outputs": [
    {
     "data": {
      "text/plain": [
       "False"
      ]
     },
     "execution_count": 78,
     "metadata": {},
     "output_type": "execute_result"
    }
   ],
   "source": [
    "a >= b"
   ]
  },
  {
   "cell_type": "code",
   "execution_count": 79,
   "id": "6f97a7be-e60a-48c4-9afb-3f96d2b0d6bf",
   "metadata": {},
   "outputs": [
    {
     "data": {
      "text/plain": [
       "False"
      ]
     },
     "execution_count": 79,
     "metadata": {},
     "output_type": "execute_result"
    }
   ],
   "source": [
    "a >= b"
   ]
  },
  {
   "cell_type": "code",
   "execution_count": 81,
   "id": "2611c81f-bb68-41b6-a12b-6309bcaf98f2",
   "metadata": {},
   "outputs": [
    {
     "data": {
      "text/plain": [
       "True"
      ]
     },
     "execution_count": 81,
     "metadata": {},
     "output_type": "execute_result"
    }
   ],
   "source": [
    "a < b"
   ]
  },
  {
   "cell_type": "code",
   "execution_count": 82,
   "id": "39efb976-8f8d-4822-b87a-5749e0ac10db",
   "metadata": {},
   "outputs": [
    {
     "data": {
      "text/plain": [
       "False"
      ]
     },
     "execution_count": 82,
     "metadata": {},
     "output_type": "execute_result"
    }
   ],
   "source": [
    "a > b"
   ]
  },
  {
   "cell_type": "code",
   "execution_count": 84,
   "id": "7a071da1-6e17-400c-910f-edf9203e757b",
   "metadata": {},
   "outputs": [],
   "source": [
    "b = 7"
   ]
  },
  {
   "cell_type": "code",
   "execution_count": 85,
   "id": "088b7987-6947-4141-952d-f434be6fdb9e",
   "metadata": {},
   "outputs": [
    {
     "data": {
      "text/plain": [
       "True"
      ]
     },
     "execution_count": 85,
     "metadata": {},
     "output_type": "execute_result"
    }
   ],
   "source": [
    "a != b"
   ]
  },
  {
   "cell_type": "code",
   "execution_count": 86,
   "id": "30f4aff3-9164-423e-ab40-a646836c24fd",
   "metadata": {},
   "outputs": [],
   "source": [
    "a = 5 \n",
    "b = 4"
   ]
  },
  {
   "cell_type": "code",
   "execution_count": 88,
   "id": "add3f207-bffb-4b16-b8c5-9b6bcd818501",
   "metadata": {},
   "outputs": [
    {
     "data": {
      "text/plain": [
       "True"
      ]
     },
     "execution_count": 88,
     "metadata": {},
     "output_type": "execute_result"
    }
   ],
   "source": [
    "a < 8 and b < 5"
   ]
  },
  {
   "cell_type": "code",
   "execution_count": 89,
   "id": "a25c2fc5-4952-4fcd-976b-1fa27398c031",
   "metadata": {},
   "outputs": [
    {
     "data": {
      "text/plain": [
       "False"
      ]
     },
     "execution_count": 89,
     "metadata": {},
     "output_type": "execute_result"
    }
   ],
   "source": [
    "a < 8 and b < 2"
   ]
  },
  {
   "cell_type": "code",
   "execution_count": 90,
   "id": "ad9f2c6c-c889-4011-888d-72973accc8ab",
   "metadata": {},
   "outputs": [
    {
     "data": {
      "text/plain": [
       "True"
      ]
     },
     "execution_count": 90,
     "metadata": {},
     "output_type": "execute_result"
    }
   ],
   "source": [
    "a < 8 or b < 2"
   ]
  },
  {
   "cell_type": "code",
   "execution_count": 91,
   "id": "3438615f-51f4-4a6e-96be-85eaf2c83f9a",
   "metadata": {},
   "outputs": [
    {
     "data": {
      "text/plain": [
       "False"
      ]
     },
     "execution_count": 91,
     "metadata": {},
     "output_type": "execute_result"
    }
   ],
   "source": [
    "a>8 or b<2"
   ]
  },
  {
   "cell_type": "code",
   "execution_count": 93,
   "id": "32160197-f699-4478-8d08-404d7e15ba53",
   "metadata": {},
   "outputs": [
    {
     "data": {
      "text/plain": [
       "False"
      ]
     },
     "execution_count": 93,
     "metadata": {},
     "output_type": "execute_result"
    }
   ],
   "source": [
    "x = False\n",
    "x"
   ]
  },
  {
   "cell_type": "code",
   "execution_count": 94,
   "id": "74bc8b83-c46c-43e3-95ec-faf607345dcf",
   "metadata": {},
   "outputs": [
    {
     "data": {
      "text/plain": [
       "True"
      ]
     },
     "execution_count": 94,
     "metadata": {},
     "output_type": "execute_result"
    }
   ],
   "source": [
    "not x"
   ]
  },
  {
   "cell_type": "code",
   "execution_count": 96,
   "id": "74fa3c55-6787-4a35-ae49-4e47f9c8df5e",
   "metadata": {},
   "outputs": [
    {
     "data": {
      "text/plain": [
       "False"
      ]
     },
     "execution_count": 96,
     "metadata": {},
     "output_type": "execute_result"
    }
   ],
   "source": [
    "x = not x\n",
    "x"
   ]
  },
  {
   "cell_type": "code",
   "execution_count": 97,
   "id": "2f04131b-601c-4213-a6aa-e70b7f58af49",
   "metadata": {},
   "outputs": [
    {
     "data": {
      "text/plain": [
       "False"
      ]
     },
     "execution_count": 97,
     "metadata": {},
     "output_type": "execute_result"
    }
   ],
   "source": [
    "x"
   ]
  },
  {
   "cell_type": "code",
   "execution_count": 98,
   "id": "3e733a0f-5fd1-4915-bace-2fc61581fd7d",
   "metadata": {},
   "outputs": [
    {
     "data": {
      "text/plain": [
       "True"
      ]
     },
     "execution_count": 98,
     "metadata": {},
     "output_type": "execute_result"
    }
   ],
   "source": [
    "not x"
   ]
  },
  {
   "cell_type": "code",
   "execution_count": 99,
   "id": "746597bf-6425-4f51-80a9-cfa33209aee3",
   "metadata": {},
   "outputs": [
    {
     "data": {
      "text/plain": [
       "25"
      ]
     },
     "execution_count": 99,
     "metadata": {},
     "output_type": "execute_result"
    }
   ],
   "source": [
    "25"
   ]
  },
  {
   "cell_type": "code",
   "execution_count": 100,
   "id": "b6751c5c-7ff6-4082-b83a-8d5b05099124",
   "metadata": {},
   "outputs": [
    {
     "data": {
      "text/plain": [
       "'0b11001'"
      ]
     },
     "execution_count": 100,
     "metadata": {},
     "output_type": "execute_result"
    }
   ],
   "source": [
    "bin(25)"
   ]
  },
  {
   "cell_type": "code",
   "execution_count": 101,
   "id": "ab3a8818-c24e-44ba-8bd9-dcb4bd3bb4f8",
   "metadata": {},
   "outputs": [
    {
     "data": {
      "text/plain": [
       "'0b1010'"
      ]
     },
     "execution_count": 101,
     "metadata": {},
     "output_type": "execute_result"
    }
   ],
   "source": [
    "bin(10)"
   ]
  },
  {
   "cell_type": "code",
   "execution_count": 102,
   "id": "a59c60ef-5a81-431e-beb5-b41ffb28b53e",
   "metadata": {},
   "outputs": [
    {
     "data": {
      "text/plain": [
       "'0b10100'"
      ]
     },
     "execution_count": 102,
     "metadata": {},
     "output_type": "execute_result"
    }
   ],
   "source": [
    "bin(20)"
   ]
  },
  {
   "cell_type": "code",
   "execution_count": 104,
   "id": "a4bd59d0-f64a-407f-8967-9db43db15589",
   "metadata": {},
   "outputs": [
    {
     "data": {
      "text/plain": [
       "25"
      ]
     },
     "execution_count": 104,
     "metadata": {},
     "output_type": "execute_result"
    }
   ],
   "source": [
    "int(0b11001)"
   ]
  },
  {
   "cell_type": "code",
   "execution_count": 105,
   "id": "f211ac87-dff1-4b3f-994b-0eb7b7723503",
   "metadata": {},
   "outputs": [
    {
     "data": {
      "text/plain": [
       "'0b100011'"
      ]
     },
     "execution_count": 105,
     "metadata": {},
     "output_type": "execute_result"
    }
   ],
   "source": [
    "bin(35)"
   ]
  },
  {
   "cell_type": "code",
   "execution_count": 106,
   "id": "2f4e8d1f-0bff-4dec-8e03-996fd82a5be7",
   "metadata": {},
   "outputs": [
    {
     "data": {
      "text/plain": [
       "35"
      ]
     },
     "execution_count": 106,
     "metadata": {},
     "output_type": "execute_result"
    }
   ],
   "source": [
    "int(0b100011)"
   ]
  },
  {
   "cell_type": "code",
   "execution_count": 107,
   "id": "a5186fb4-c783-41bb-b4a6-5485a1f8f966",
   "metadata": {},
   "outputs": [
    {
     "data": {
      "text/plain": [
       "'0o17'"
      ]
     },
     "execution_count": 107,
     "metadata": {},
     "output_type": "execute_result"
    }
   ],
   "source": [
    "oct(15)"
   ]
  },
  {
   "cell_type": "code",
   "execution_count": 109,
   "id": "7d07fa8e-dd0d-447c-900b-63d76ab3fff1",
   "metadata": {},
   "outputs": [
    {
     "data": {
      "text/plain": [
       "'0x9'"
      ]
     },
     "execution_count": 109,
     "metadata": {},
     "output_type": "execute_result"
    }
   ],
   "source": [
    "hex(9)"
   ]
  },
  {
   "cell_type": "code",
   "execution_count": 111,
   "id": "62de763b-fd1c-4919-b263-9cf7aa7aaf41",
   "metadata": {},
   "outputs": [
    {
     "data": {
      "text/plain": [
       "'0xa'"
      ]
     },
     "execution_count": 111,
     "metadata": {},
     "output_type": "execute_result"
    }
   ],
   "source": [
    "hex(10)"
   ]
  },
  {
   "cell_type": "code",
   "execution_count": 112,
   "id": "25c65254-f24a-4fd4-a868-2a69dfa2a1b6",
   "metadata": {},
   "outputs": [
    {
     "data": {
      "text/plain": [
       "'0x19'"
      ]
     },
     "execution_count": 112,
     "metadata": {},
     "output_type": "execute_result"
    }
   ],
   "source": [
    "hex(25)"
   ]
  },
  {
   "cell_type": "code",
   "execution_count": null,
   "id": "8662dc2e-d5fe-493a-8f28-9792bd387c05",
   "metadata": {},
   "outputs": [],
   "source": []
  },
  {
   "cell_type": "code",
   "execution_count": null,
   "id": "2236a57d-9cb3-4062-a07a-a681050c2e18",
   "metadata": {},
   "outputs": [],
   "source": []
  },
  {
   "cell_type": "code",
   "execution_count": 114,
   "id": "df71c1f6-e35a-49c2-961c-bf7af7532474",
   "metadata": {},
   "outputs": [
    {
     "data": {
      "text/plain": [
       "'0xc'"
      ]
     },
     "execution_count": 114,
     "metadata": {},
     "output_type": "execute_result"
    }
   ],
   "source": [
    "hex(12)"
   ]
  },
  {
   "cell_type": "code",
   "execution_count": 116,
   "id": "0d914a64-319f-42d4-8e7e-38de0f961d73",
   "metadata": {},
   "outputs": [
    {
     "data": {
      "text/plain": [
       "'0x11'"
      ]
     },
     "execution_count": 116,
     "metadata": {},
     "output_type": "execute_result"
    }
   ],
   "source": [
    "hex(17)"
   ]
  },
  {
   "cell_type": "code",
   "execution_count": 117,
   "id": "35722c37-c269-4eb2-af63-dba4d607438f",
   "metadata": {},
   "outputs": [
    {
     "data": {
      "text/plain": [
       "'0x19'"
      ]
     },
     "execution_count": 117,
     "metadata": {},
     "output_type": "execute_result"
    }
   ],
   "source": [
    "hex(25)"
   ]
  },
  {
   "cell_type": "code",
   "execution_count": 118,
   "id": "a1f1a285-c804-4ae3-a4ac-cec23b5c536e",
   "metadata": {},
   "outputs": [
    {
     "data": {
      "text/plain": [
       "'0x23'"
      ]
     },
     "execution_count": 118,
     "metadata": {},
     "output_type": "execute_result"
    }
   ],
   "source": [
    "hex(35)"
   ]
  },
  {
   "cell_type": "code",
   "execution_count": 119,
   "id": "81837e89-01a4-421c-9414-47898630b773",
   "metadata": {},
   "outputs": [
    {
     "data": {
      "text/plain": [
       "'0b100011'"
      ]
     },
     "execution_count": 119,
     "metadata": {},
     "output_type": "execute_result"
    }
   ],
   "source": [
    "bin(35)"
   ]
  },
  {
   "cell_type": "code",
   "execution_count": 127,
   "id": "40e25843-1777-48cd-b911-3bd2e712174e",
   "metadata": {},
   "outputs": [],
   "source": [
    "a = 5\n",
    "b = 6"
   ]
  },
  {
   "cell_type": "code",
   "execution_count": 123,
   "id": "fd667236-1e9b-4ed1-aa2b-008d7f94f32e",
   "metadata": {},
   "outputs": [],
   "source": [
    "a = b\n",
    "b = a"
   ]
  },
  {
   "cell_type": "code",
   "execution_count": 129,
   "id": "acea694a-097d-4179-9fd4-327fd08778cc",
   "metadata": {},
   "outputs": [],
   "source": [
    "a,b = b,a"
   ]
  },
  {
   "cell_type": "code",
   "execution_count": 130,
   "id": "7eae9b8b-3898-41b2-95e0-75d15d69d4af",
   "metadata": {},
   "outputs": [
    {
     "name": "stdout",
     "output_type": "stream",
     "text": [
      "6\n",
      "5\n"
     ]
    }
   ],
   "source": [
    "print(a)\n",
    "print(b)"
   ]
  },
  {
   "cell_type": "code",
   "execution_count": 131,
   "id": "6e4ae3a0-41f1-4991-b08e-b9cb1c714edb",
   "metadata": {},
   "outputs": [],
   "source": [
    "a1 = 7\n",
    "b1 = 8"
   ]
  },
  {
   "cell_type": "code",
   "execution_count": 132,
   "id": "0823d5ec-f5bb-4cba-acb1-957f5d9fd15e",
   "metadata": {},
   "outputs": [],
   "source": [
    "temp =a1\n",
    "a1 = b1\n",
    "b1 = temp"
   ]
  },
  {
   "cell_type": "code",
   "execution_count": 135,
   "id": "17ab258a-79dd-4711-bf10-b7ccfbea4f51",
   "metadata": {},
   "outputs": [
    {
     "name": "stdout",
     "output_type": "stream",
     "text": [
      "8\n",
      "7\n"
     ]
    }
   ],
   "source": [
    "print(a1)\n",
    "print(b1)"
   ]
  },
  {
   "cell_type": "code",
   "execution_count": null,
   "id": "4a2bc0a3-7b58-41f6-8bb0-7a7005ece9fc",
   "metadata": {},
   "outputs": [],
   "source": [
    "a2 = 5\n",
    "b2 = 6"
   ]
  },
  {
   "cell_type": "code",
   "execution_count": 136,
   "id": "aefc1198-4e4b-4656-b56b-49d63f5a9fd5",
   "metadata": {},
   "outputs": [
    {
     "data": {
      "text/plain": [
       "-46"
      ]
     },
     "execution_count": 136,
     "metadata": {},
     "output_type": "execute_result"
    }
   ],
   "source": [
    "~45"
   ]
  },
  {
   "cell_type": "code",
   "execution_count": 138,
   "id": "919dc95e-346f-495f-9fc1-3cb388533910",
   "metadata": {},
   "outputs": [
    {
     "data": {
      "text/plain": [
       "'0b1101'"
      ]
     },
     "execution_count": 138,
     "metadata": {},
     "output_type": "execute_result"
    }
   ],
   "source": [
    "bin(13)"
   ]
  },
  {
   "cell_type": "code",
   "execution_count": 139,
   "id": "dbebb23e-5510-4a64-b03b-b443eb99afc1",
   "metadata": {},
   "outputs": [
    {
     "data": {
      "text/plain": [
       "12"
      ]
     },
     "execution_count": 139,
     "metadata": {},
     "output_type": "execute_result"
    }
   ],
   "source": [
    "12&13"
   ]
  },
  {
   "cell_type": "code",
   "execution_count": 140,
   "id": "fc96aa3e-83d2-469c-92ee-1a42fbdac9c9",
   "metadata": {},
   "outputs": [
    {
     "data": {
      "text/plain": [
       "13"
      ]
     },
     "execution_count": 140,
     "metadata": {},
     "output_type": "execute_result"
    }
   ],
   "source": [
    "12|13"
   ]
  },
  {
   "cell_type": "code",
   "execution_count": 143,
   "id": "c911d97a-5761-4f0c-bd0a-0e36ba91a2c0",
   "metadata": {},
   "outputs": [
    {
     "data": {
      "text/plain": [
       "40"
      ]
     },
     "execution_count": 143,
     "metadata": {},
     "output_type": "execute_result"
    }
   ],
   "source": [
    "10<<2"
   ]
  },
  {
   "cell_type": "code",
   "execution_count": 142,
   "id": "c630c40c-244f-4cc2-a9fb-4ab7aaa45363",
   "metadata": {},
   "outputs": [
    {
     "data": {
      "text/plain": [
       "'0b1010'"
      ]
     },
     "execution_count": 142,
     "metadata": {},
     "output_type": "execute_result"
    }
   ],
   "source": [
    "bin(10)"
   ]
  },
  {
   "cell_type": "code",
   "execution_count": 150,
   "id": "963f605b-7ab4-4071-94d7-270ef5ec7019",
   "metadata": {},
   "outputs": [
    {
     "name": "stdin",
     "output_type": "stream",
     "text": [
      "Enter 1st number 22\n",
      "Enter 2nd number 22\n"
     ]
    },
    {
     "name": "stdout",
     "output_type": "stream",
     "text": [
      "2222\n"
     ]
    }
   ],
   "source": [
    "a = input('Enter 1st number')\n",
    "b = input('Enter 2nd number')\n",
    "c = a+b\n",
    "print (c)"
   ]
  },
  {
   "cell_type": "code",
   "execution_count": 152,
   "id": "5aab1fe1-f328-4b1e-a512-e570f2c581ff",
   "metadata": {},
   "outputs": [
    {
     "name": "stdin",
     "output_type": "stream",
     "text": [
      "Enter 1st number 2\n",
      "Enter 2nd number 2\n"
     ]
    },
    {
     "name": "stdout",
     "output_type": "stream",
     "text": [
      "4\n"
     ]
    }
   ],
   "source": [
    "a =int( input('Enter 1st number'))\n",
    "b = int(input('Enter 2nd number'))\n",
    "c = ('') a+b\n",
    "print(c)"
   ]
  },
  {
   "cell_type": "code",
   "execution_count": null,
   "id": "c29894ad-3bc8-4e8e-b82f-e96fd7e07b3a",
   "metadata": {},
   "outputs": [],
   "source": []
  },
  {
   "cell_type": "code",
   "execution_count": null,
   "id": "ce109e5c-7dd7-4af2-9467-00cb20114751",
   "metadata": {},
   "outputs": [],
   "source": []
  },
  {
   "cell_type": "code",
   "execution_count": null,
   "id": "563577d2-4379-4769-9adb-eddda3d165f2",
   "metadata": {},
   "outputs": [],
   "source": []
  },
  {
   "cell_type": "code",
   "execution_count": null,
   "id": "dea0809a-c595-4e32-a5e5-bdc3af5eda80",
   "metadata": {},
   "outputs": [],
   "source": []
  },
  {
   "cell_type": "code",
   "execution_count": null,
   "id": "744eb9a4-b24c-4f32-93fe-8c443c7dab2f",
   "metadata": {},
   "outputs": [],
   "source": [
    "\n"
   ]
  }
 ],
 "metadata": {
  "kernelspec": {
   "display_name": "Python 3 (ipykernel)",
   "language": "python",
   "name": "python3"
  },
  "language_info": {
   "codemirror_mode": {
    "name": "ipython",
    "version": 3
   },
   "file_extension": ".py",
   "mimetype": "text/x-python",
   "name": "python",
   "nbconvert_exporter": "python",
   "pygments_lexer": "ipython3",
   "version": "3.13.5"
  }
 },
 "nbformat": 4,
 "nbformat_minor": 5
}
