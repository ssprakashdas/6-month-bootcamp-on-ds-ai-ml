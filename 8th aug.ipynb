{
 "cells": [
  {
   "cell_type": "code",
   "execution_count": 1,
   "id": "0d4b7224-911a-4a97-8e45-08ec9fb8f29a",
   "metadata": {},
   "outputs": [
    {
     "ename": "NameError",
     "evalue": "name 'sqrt' is not defined",
     "output_type": "error",
     "traceback": [
      "\u001b[31m---------------------------------------------------------------------------\u001b[39m",
      "\u001b[31mNameError\u001b[39m                                 Traceback (most recent call last)",
      "\u001b[36mCell\u001b[39m\u001b[36m \u001b[39m\u001b[32mIn[1]\u001b[39m\u001b[32m, line 1\u001b[39m\n\u001b[32m----> \u001b[39m\u001b[32m1\u001b[39m x = \u001b[43msqrt\u001b[49m(\u001b[32m25\u001b[39m)\n",
      "\u001b[31mNameError\u001b[39m: name 'sqrt' is not defined"
     ]
    }
   ],
   "source": [
    "x = sqrt(25)"
   ]
  },
  {
   "cell_type": "code",
   "execution_count": 3,
   "id": "6b2e9058-68b1-4dd8-811c-0e567f05db45",
   "metadata": {},
   "outputs": [],
   "source": [
    "import math"
   ]
  },
  {
   "cell_type": "code",
   "execution_count": 4,
   "id": "d0b30742-f755-495b-a873-acde6898b120",
   "metadata": {},
   "outputs": [],
   "source": [
    "x = math.sqrt(25)"
   ]
  },
  {
   "cell_type": "code",
   "execution_count": 5,
   "id": "7fb52f03-36c6-48bd-80ba-d06306cf4a60",
   "metadata": {},
   "outputs": [
    {
     "data": {
      "text/plain": [
       "5.0"
      ]
     },
     "execution_count": 5,
     "metadata": {},
     "output_type": "execute_result"
    }
   ],
   "source": [
    "x"
   ]
  },
  {
   "cell_type": "code",
   "execution_count": 6,
   "id": "52b4aa16-bfe0-4fb5-b977-26ce07131eda",
   "metadata": {},
   "outputs": [],
   "source": [
    "x1 = math.sqrt(15)"
   ]
  },
  {
   "cell_type": "code",
   "execution_count": 7,
   "id": "662f22f2-5d8e-4ae9-a475-22f0c75f6283",
   "metadata": {},
   "outputs": [
    {
     "data": {
      "text/plain": [
       "3.872983346207417"
      ]
     },
     "execution_count": 7,
     "metadata": {},
     "output_type": "execute_result"
    }
   ],
   "source": [
    "x1"
   ]
  },
  {
   "cell_type": "code",
   "execution_count": 8,
   "id": "db053d1d-a6a1-4da0-80ca-87cad358d833",
   "metadata": {},
   "outputs": [
    {
     "name": "stdout",
     "output_type": "stream",
     "text": [
      "2\n"
     ]
    }
   ],
   "source": [
    "print(math.floor(2.9))"
   ]
  },
  {
   "cell_type": "code",
   "execution_count": 9,
   "id": "9efa602b-dc67-4c75-9b1f-4bc17bde86cc",
   "metadata": {},
   "outputs": [
    {
     "name": "stdout",
     "output_type": "stream",
     "text": [
      "3\n"
     ]
    }
   ],
   "source": [
    "print(math.ceil(2.9))\n"
   ]
  },
  {
   "cell_type": "code",
   "execution_count": 10,
   "id": "b0516f7f-120f-40de-95c7-0e38796c1d6c",
   "metadata": {},
   "outputs": [
    {
     "name": "stdout",
     "output_type": "stream",
     "text": [
      "36.0\n"
     ]
    }
   ],
   "source": [
    "print(math.pow(6,2))"
   ]
  },
  {
   "cell_type": "code",
   "execution_count": 11,
   "id": "fd5ea413-f1de-4a86-ac0c-4c106138972d",
   "metadata": {},
   "outputs": [
    {
     "name": "stdout",
     "output_type": "stream",
     "text": [
      "3.141592653589793\n"
     ]
    }
   ],
   "source": [
    "print(math.pi)"
   ]
  },
  {
   "cell_type": "code",
   "execution_count": 12,
   "id": "4524d7b2-12ff-4a90-9f89-ce5552b1500e",
   "metadata": {},
   "outputs": [
    {
     "name": "stdout",
     "output_type": "stream",
     "text": [
      "2.718281828459045\n"
     ]
    }
   ],
   "source": [
    "print(math.e)"
   ]
  },
  {
   "cell_type": "code",
   "execution_count": 13,
   "id": "5c4396ee-67bb-4cca-928a-3eeaa0618d0b",
   "metadata": {},
   "outputs": [
    {
     "data": {
      "text/plain": [
       "3.1622776601683795"
      ]
     },
     "execution_count": 13,
     "metadata": {},
     "output_type": "execute_result"
    }
   ],
   "source": [
    "import math as m\n",
    "m.sqrt(10)"
   ]
  },
  {
   "cell_type": "code",
   "execution_count": 14,
   "id": "ae00fb79-2b86-461d-9fd8-0bc4b37f7fc6",
   "metadata": {},
   "outputs": [
    {
     "data": {
      "text/plain": [
       "8.0"
      ]
     },
     "execution_count": 14,
     "metadata": {},
     "output_type": "execute_result"
    }
   ],
   "source": [
    "from math import sqrt,pow\n",
    "pow(2,3)"
   ]
  },
  {
   "cell_type": "code",
   "execution_count": 15,
   "id": "167e45cc-2f60-442d-b78e-cd834e43210b",
   "metadata": {},
   "outputs": [
    {
     "data": {
      "text/plain": [
       "8"
      ]
     },
     "execution_count": 15,
     "metadata": {},
     "output_type": "execute_result"
    }
   ],
   "source": [
    "round(pow(2,3))"
   ]
  },
  {
   "cell_type": "code",
   "execution_count": 16,
   "id": "5684196a-5829-4048-b783-2ce99e0b6e51",
   "metadata": {},
   "outputs": [
    {
     "name": "stdin",
     "output_type": "stream",
     "text": [
      " 1\n",
      " 1\n"
     ]
    },
    {
     "name": "stdout",
     "output_type": "stream",
     "text": [
      "11\n"
     ]
    }
   ],
   "source": [
    "x = input()\n",
    "y = input()\n",
    "z = x+y\n",
    "print(z)"
   ]
  },
  {
   "cell_type": "code",
   "execution_count": 17,
   "id": "2e83697d-c7e7-4886-bb5d-f594bd8ab756",
   "metadata": {},
   "outputs": [
    {
     "name": "stdin",
     "output_type": "stream",
     "text": [
      "enter the first number 1\n",
      "enter the second nummber 1\n"
     ]
    },
    {
     "name": "stdout",
     "output_type": "stream",
     "text": [
      "11\n"
     ]
    }
   ],
   "source": [
    "x1 = input('enter the first number')\n",
    "y1 = input('enter the second nummber')\n",
    "z1 = x1 + y1\n",
    "print(z1)"
   ]
  },
  {
   "cell_type": "code",
   "execution_count": 18,
   "id": "18f89a3e-daa1-41c4-84de-1a13e92aa915",
   "metadata": {},
   "outputs": [
    {
     "data": {
      "text/plain": [
       "str"
      ]
     },
     "execution_count": 18,
     "metadata": {},
     "output_type": "execute_result"
    }
   ],
   "source": [
    "type(x1)\n",
    "type(y1)"
   ]
  },
  {
   "cell_type": "code",
   "execution_count": 19,
   "id": "01b1c965-d8a2-473d-8fd0-14f9d85336af",
   "metadata": {},
   "outputs": [
    {
     "name": "stdin",
     "output_type": "stream",
     "text": [
      "enter the first number 2\n",
      "enter the second nummber 2\n"
     ]
    },
    {
     "name": "stdout",
     "output_type": "stream",
     "text": [
      "4\n"
     ]
    }
   ],
   "source": [
    "x1 = input('enter the first number')\n",
    "a1 = int(x1)\n",
    "y1 = input('enter the second nummber')\n",
    "b1 = int(y1)\n",
    "z1 = a1+b1\n",
    "print(z1)"
   ]
  },
  {
   "cell_type": "code",
   "execution_count": 20,
   "id": "f96b05fa-7106-407f-957b-3a2d9cefe295",
   "metadata": {},
   "outputs": [
    {
     "name": "stdin",
     "output_type": "stream",
     "text": [
      "enter the first number 3\n",
      "enter the second nummber 3\n"
     ]
    },
    {
     "name": "stdout",
     "output_type": "stream",
     "text": [
      "6\n"
     ]
    }
   ],
   "source": [
    "x1 = int(input('enter the first number'))\n",
    "y1 = int(input('enter the second nummber'))\n",
    "z1 = x1 + y1\n",
    "print(z1)"
   ]
  },
  {
   "cell_type": "code",
   "execution_count": 21,
   "id": "4ce49be9-98e5-4870-ab5e-10764f3d1571",
   "metadata": {},
   "outputs": [
    {
     "name": "stdin",
     "output_type": "stream",
     "text": [
      "enter a char prakash\n"
     ]
    },
    {
     "name": "stdout",
     "output_type": "stream",
     "text": [
      "prakash\n"
     ]
    }
   ],
   "source": [
    "ch = input('enter a char')\n",
    "print(ch)"
   ]
  },
  {
   "cell_type": "code",
   "execution_count": 23,
   "id": "eeec5a6b-a073-4bc2-8a97-01269cb2d3df",
   "metadata": {},
   "outputs": [
    {
     "name": "stdout",
     "output_type": "stream",
     "text": [
      "p\n"
     ]
    }
   ],
   "source": [
    "print(ch[0])"
   ]
  },
  {
   "cell_type": "code",
   "execution_count": 24,
   "id": "c691c09b-0227-4e93-b6c2-5ac527545541",
   "metadata": {},
   "outputs": [
    {
     "name": "stdout",
     "output_type": "stream",
     "text": [
      "r\n"
     ]
    }
   ],
   "source": [
    "print(ch[1])"
   ]
  },
  {
   "cell_type": "code",
   "execution_count": 25,
   "id": "c43452ae-0a9c-4286-86e6-5ea7bf63cd85",
   "metadata": {},
   "outputs": [
    {
     "name": "stdout",
     "output_type": "stream",
     "text": [
      "h\n"
     ]
    }
   ],
   "source": [
    "print(ch[-1])"
   ]
  },
  {
   "cell_type": "code",
   "execution_count": 26,
   "id": "5ede8a59-604a-48da-8e03-e36a00d580e6",
   "metadata": {},
   "outputs": [
    {
     "name": "stdin",
     "output_type": "stream",
     "text": [
      "enter a char prakash\n"
     ]
    },
    {
     "name": "stdout",
     "output_type": "stream",
     "text": [
      "p\n"
     ]
    }
   ],
   "source": [
    "ch = input('enter a char')[0]\n",
    "print(ch)"
   ]
  },
  {
   "cell_type": "code",
   "execution_count": 27,
   "id": "f8c356ab-35ba-4282-994d-bc17398033c3",
   "metadata": {},
   "outputs": [
    {
     "name": "stdin",
     "output_type": "stream",
     "text": [
      "enter a char prakash\n"
     ]
    },
    {
     "name": "stdout",
     "output_type": "stream",
     "text": [
      "ra\n"
     ]
    }
   ],
   "source": [
    "ch = input('enter a char')[1:3]\n",
    "print(ch)\n"
   ]
  },
  {
   "cell_type": "code",
   "execution_count": 29,
   "id": "a144e64b-fa35-4959-b486-1ead6070204d",
   "metadata": {},
   "outputs": [
    {
     "name": "stdin",
     "output_type": "stream",
     "text": [
      "enter a expr 11\n"
     ]
    },
    {
     "name": "stdout",
     "output_type": "stream",
     "text": [
      "11\n"
     ]
    }
   ],
   "source": [
    "result = eval(input('enter a expr'))\n",
    "print(result)"
   ]
  },
  {
   "cell_type": "code",
   "execution_count": null,
   "id": "4ff8b574-8061-47e1-9e05-dbd72aa39e33",
   "metadata": {},
   "outputs": [],
   "source": []
  }
 ],
 "metadata": {
  "kernelspec": {
   "display_name": "Python 3 (ipykernel)",
   "language": "python",
   "name": "python3"
  },
  "language_info": {
   "codemirror_mode": {
    "name": "ipython",
    "version": 3
   },
   "file_extension": ".py",
   "mimetype": "text/x-python",
   "name": "python",
   "nbconvert_exporter": "python",
   "pygments_lexer": "ipython3",
   "version": "3.13.5"
  }
 },
 "nbformat": 4,
 "nbformat_minor": 5
}
