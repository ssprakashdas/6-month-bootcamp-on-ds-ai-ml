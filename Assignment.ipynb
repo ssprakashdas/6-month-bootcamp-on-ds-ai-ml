{
  "nbformat": 4,
  "nbformat_minor": 0,
  "metadata": {
    "colab": {
      "provenance": []
    },
    "kernelspec": {
      "name": "python3",
      "display_name": "Python 3"
    },
    "language_info": {
      "name": "python"
    }
  },
  "cells": [
    {
      "cell_type": "code",
      "execution_count": 3,
      "metadata": {
        "colab": {
          "base_uri": "https://localhost:8080/"
        },
        "id": "5lWrh026rsKt",
        "outputId": "64d08214-a93e-4147-9208-18f42b3c6c1c"
      },
      "outputs": [
        {
          "output_type": "stream",
          "name": "stdout",
          "text": [
            "9\n",
            "1\n",
            "20\n",
            "1.25\n",
            "1\n",
            "1\n",
            "625\n"
          ]
        }
      ],
      "source": [
        "print(5+4)\n",
        "print(5-4)\n",
        "print(5*4)\n",
        "print(5/4)\n",
        "print(5%4)\n",
        "print(5//4)\n",
        "print(5**4)"
      ]
    },
    {
      "cell_type": "code",
      "source": [
        "from re import T\n",
        "print(type(44))\n",
        "print(type(12.4))\n",
        "print(type(5+3j))\n",
        "print(type(\"prakash\"))\n",
        "print(type([1,2,3]))\n",
        "print(type({'name':'prakash'}))\n",
        "print(type({2.4,4.3,6.2}))\n",
        "print(type((2.4,4.3,6.2)))\n",
        "print(type(4==8))\n",
        "print(type(8<=4))"
      ],
      "metadata": {
        "colab": {
          "base_uri": "https://localhost:8080/"
        },
        "id": "zOPvol3ssHCu",
        "outputId": "7a79604a-61d7-4b31-8526-c5dd9a361a87"
      },
      "execution_count": 16,
      "outputs": [
        {
          "output_type": "stream",
          "name": "stdout",
          "text": [
            "<class 'int'>\n",
            "<class 'float'>\n",
            "<class 'complex'>\n",
            "<class 'str'>\n",
            "<class 'list'>\n",
            "<class 'dict'>\n",
            "<class 'set'>\n",
            "<class 'tuple'>\n",
            "<class 'bool'>\n",
            "<class 'bool'>\n"
          ]
        }
      ]
    },
    {
      "cell_type": "code",
      "source": [
        "first_name = 'PRAKASH'\n",
        "last_name = 'DAS'\n",
        "contry = 'IND'\n",
        "city = 'BALASORE'\n",
        "age = 24\n",
        "is_married = False\n",
        "skills = ['HTML','CSS']\n",
        "person_info = {\n",
        "    'firstname':'PRAKASH',\n",
        "    'lastname':'DAS',\n",
        "    'contry':'ind',\n",
        "    'city':'BALASORE',\n",
        "    }\n",
        ""
      ],
      "metadata": {
        "id": "aND5c1KisHFp"
      },
      "execution_count": 33,
      "outputs": []
    },
    {
      "cell_type": "code",
      "source": [
        "print('First name:', first_name)\n",
        "print('First name length:', len(first_name))\n",
        "print('Last name: ', last_name)\n",
        "print('Last name length: ', len(last_name))\n",
        "print('Country: ', country)\n",
        "print('City: ', city)\n",
        "print('Age: ', age)\n",
        "print('Married: ', is_married)\n",
        "print('Skills: ', skills)\n",
        "print('Person information: ', person_info)"
      ],
      "metadata": {
        "colab": {
          "base_uri": "https://localhost:8080/"
        },
        "id": "C7Q2wV2isHM2",
        "outputId": "505fc9d6-a6a9-48f6-f3e9-73eb89d19e55"
      },
      "execution_count": 34,
      "outputs": [
        {
          "output_type": "stream",
          "name": "stdout",
          "text": [
            "First name: PRAKASH\n",
            "First name length: 7\n",
            "Last name:  DAS\n",
            "Last name length:  3\n",
            "Country:  ind\n",
            "City:  BALASORE\n",
            "Age:  24\n",
            "Married:  False\n",
            "Skills:  ['HTML', 'CSS']\n",
            "Person information:  {'firstname': 'PRAKASH', 'lastname': 'DAS', 'contry': 'ind', 'city': 'BALASORE'}\n"
          ]
        }
      ]
    },
    {
      "cell_type": "code",
      "source": [
        "first_name, last_name, country, age, is_married = 'Prakash', 'Das', 'ind', 24, False\n",
        "\n",
        "print(first_name, last_name, country, age, is_married)\n",
        "print('First name:', first_name)\n",
        "print('Last name: ', last_name)\n",
        "print('Country: ', country)\n",
        "print('Age: ', age)\n",
        "print('Married: ', is_married)"
      ],
      "metadata": {
        "colab": {
          "base_uri": "https://localhost:8080/"
        },
        "id": "d3R-GXmDsHPL",
        "outputId": "ae40616f-4cd2-4813-e3d0-ed6e3acce2ef"
      },
      "execution_count": 31,
      "outputs": [
        {
          "output_type": "stream",
          "name": "stdout",
          "text": [
            "Prakash Das ind 24 False\n",
            "First name: Prakash\n",
            "Last name:  Das\n",
            "Country:  ind\n",
            "Age:  24\n",
            "Married:  False\n"
          ]
        }
      ]
    },
    {
      "cell_type": "code",
      "source": [],
      "metadata": {
        "id": "6lSk7FknsHXn"
      },
      "execution_count": null,
      "outputs": []
    },
    {
      "cell_type": "code",
      "source": [],
      "metadata": {
        "id": "_nNgiLsHsHaJ"
      },
      "execution_count": null,
      "outputs": []
    },
    {
      "cell_type": "code",
      "source": [],
      "metadata": {
        "id": "y-IT3j2ysHdo"
      },
      "execution_count": null,
      "outputs": []
    }
  ]
}