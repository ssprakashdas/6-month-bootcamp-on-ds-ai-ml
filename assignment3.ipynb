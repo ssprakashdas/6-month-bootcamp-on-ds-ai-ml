{
 "cells": [
  {
   "cell_type": "code",
   "execution_count": null,
   "id": "220b3b8a-f0e5-46c5-a2b2-dc5ddef7987a",
   "metadata": {},
   "outputs": [],
   "source": [
    "# print is use of answer"
   ]
  },
  {
   "cell_type": "code",
   "execution_count": 1,
   "id": "985d4a68-d5e5-4095-84b5-65552110c0a7",
   "metadata": {},
   "outputs": [
    {
     "data": {
      "text/plain": [
       "20"
      ]
     },
     "execution_count": 1,
     "metadata": {},
     "output_type": "execute_result"
    }
   ],
   "source": [
    "a=10\n",
    "b=20\n",
    "a\n",
    "b\n"
   ]
  },
  {
   "cell_type": "code",
   "execution_count": 2,
   "id": "7e6d9465-45d7-479f-a448-dad4aa547c63",
   "metadata": {},
   "outputs": [
    {
     "name": "stdout",
     "output_type": "stream",
     "text": [
      "10\n",
      "20\n"
     ]
    }
   ],
   "source": [
    "a=10\n",
    "b=20\n",
    "print(a)\n",
    "print(b)"
   ]
  },
  {
   "cell_type": "code",
   "execution_count": 3,
   "id": "011d2e08-7015-4cf7-911c-902adf3e6658",
   "metadata": {},
   "outputs": [
    {
     "name": "stdout",
     "output_type": "stream",
     "text": [
      "10\n",
      "20\n",
      "python\n",
      "10 20 python\n"
     ]
    }
   ],
   "source": [
    "print(10)\n",
    "print(20)\n",
    "print('python')\n",
    "print(10,20,'python')"
   ]
  },
  {
   "cell_type": "code",
   "execution_count": 4,
   "id": "bd49f59d-bdf0-4ff5-8aef-f732b593a4f5",
   "metadata": {},
   "outputs": [
    {
     "name": "stdout",
     "output_type": "stream",
     "text": [
      "60\n"
     ]
    }
   ],
   "source": [
    "num1=20\n",
    "num2=40\n",
    "add=num1+num2\n",
    "print(add)"
   ]
  },
  {
   "cell_type": "code",
   "execution_count": 6,
   "id": "1a5810c5-a580-4679-8ad9-aab36ea6e3ef",
   "metadata": {},
   "outputs": [],
   "source": [
    "#print result with string"
   ]
  },
  {
   "cell_type": "code",
   "execution_count": 7,
   "id": "52e11877-e0ad-4a0d-a2a2-5587ef3e2a54",
   "metadata": {},
   "outputs": [
    {
     "name": "stdout",
     "output_type": "stream",
     "text": [
      "The addition of 20 and 40 is= 60\n"
     ]
    }
   ],
   "source": [
    "num1=20\n",
    "num2=40\n",
    "add=num1+num2\n",
    "print('The addition of',num1,'and',num2,'is=',add)"
   ]
  },
  {
   "cell_type": "code",
   "execution_count": 9,
   "id": "437ac328-e1d9-451c-a9c7-d94e31aac8f2",
   "metadata": {},
   "outputs": [
    {
     "name": "stdout",
     "output_type": "stream",
     "text": [
      "My name is prakash and i am 24 year old from od\n"
     ]
    }
   ],
   "source": [
    "name='prakash'\n",
    "age=24\n",
    "city='od'\n",
    "print('My name is',name,'and i am',age,'year old from',city)"
   ]
  },
  {
   "cell_type": "code",
   "execution_count": 16,
   "id": "04e55b1f-3ac1-46e2-9d57-a5bc76ee837c",
   "metadata": {},
   "outputs": [
    {
     "name": "stdout",
     "output_type": "stream",
     "text": [
      "The addition of 20 and 40 is= 60\n"
     ]
    }
   ],
   "source": [
    "num1=20\n",
    "num2=40\n",
    "add=num1+num2\n",
    "print('The addition of {} and {} is= {}'.format(num1,num2,add))"
   ]
  },
  {
   "cell_type": "code",
   "execution_count": 20,
   "id": "eb44dd8f-f241-414d-a4b4-751290dcd56b",
   "metadata": {},
   "outputs": [
    {
     "name": "stdout",
     "output_type": "stream",
     "text": [
      "my name is prakash i am 24 year old from od\n"
     ]
    }
   ],
   "source": [
    "name='prakash'\n",
    "age=24\n",
    "city='od'\n",
    "print('my name is {} i am {} year old from {}'.format(name,age,city))"
   ]
  },
  {
   "cell_type": "code",
   "execution_count": 30,
   "id": "691f2843-52fc-4c6a-8425-54a39a91bd85",
   "metadata": {},
   "outputs": [
    {
     "name": "stdout",
     "output_type": "stream",
     "text": [
      "The avrage of 200, 400,and 333 is= 311.0 or 311.0\n"
     ]
    }
   ],
   "source": [
    "num1=200\n",
    "num2=400\n",
    "num3=333\n",
    "avg=(num1+num2+num3)/3\n",
    "avg1=round((num1+num2+num3)/3,2)\n",
    "print('The avrage of {}, {},and {} is= {} or {}'.format(num1,num2,num3,avg,avg1))"
   ]
  },
  {
   "cell_type": "code",
   "execution_count": 31,
   "id": "9bba7a92-9b7d-47df-afa3-b90b9727cabc",
   "metadata": {},
   "outputs": [
    {
     "name": "stdout",
     "output_type": "stream",
     "text": [
      "The addition of 20 and 40 is=60\n"
     ]
    }
   ],
   "source": [
    "num1=20\n",
    "num2=40\n",
    "print(f'The addition of {num1} and {num2} is={add}')"
   ]
  },
  {
   "cell_type": "code",
   "execution_count": 33,
   "id": "5ce6cf04-1db4-4da4-a505-3c5add4f7c7f",
   "metadata": {},
   "outputs": [
    {
     "name": "stdout",
     "output_type": "stream",
     "text": [
      "My name is prakash i am 24 years old,from od\n"
     ]
    }
   ],
   "source": [
    "name='prakash'\n",
    "age=24\n",
    "city='od'\n",
    "print(f'My name is {name} i am {age} years old,from {city}')"
   ]
  },
  {
   "cell_type": "code",
   "execution_count": 39,
   "id": "5cc23ac3-c473-41f3-8f4f-7c85bf51ca66",
   "metadata": {},
   "outputs": [
    {
     "name": "stdout",
     "output_type": "stream",
     "text": [
      "The avrage of 200, 400, and 600 is= 400.0\n"
     ]
    }
   ],
   "source": [
    "num1=200\n",
    "num2=400\n",
    "num3=600\n",
    "avg=round((num1+num2+num3)/3,2)\n",
    "print(f'The avrage of {num1}, {num2}, and {num3} is= {avg}')"
   ]
  },
  {
   "cell_type": "code",
   "execution_count": 44,
   "id": "4bc9f2d5-48ef-4705-996c-1178b05e854b",
   "metadata": {},
   "outputs": [
    {
     "name": "stdout",
     "output_type": "stream",
     "text": [
      "The addition of 15 and 25 is= 40\n",
      "The addition of 15, and 25 is= 40\n",
      "The addition of 15 and 25 is = 40\n"
     ]
    }
   ],
   "source": [
    "num1=15\n",
    "num2=25\n",
    "add=num1+num2\n",
    "print('The addition of',num1,'and',num2,'is=',add)\n",
    "print('The addition of {}, and {} is= {}'.format(num1,num2,add))\n",
    "print(f'The addition of {num1} and {num2} is = {add}')"
   ]
  },
  {
   "cell_type": "code",
   "execution_count": 46,
   "id": "e76d752b-6ce6-4bfe-a1a9-e6034baf992a",
   "metadata": {},
   "outputs": [
    {
     "name": "stdout",
     "output_type": "stream",
     "text": [
      "Hellow--->Hy--->How are you\n"
     ]
    }
   ],
   "source": [
    "print('Hellow','Hy','How are you',sep='--->')"
   ]
  },
  {
   "cell_type": "code",
   "execution_count": 47,
   "id": "8f04ced7-31f3-4052-80d6-7fdafeb70ef9",
   "metadata": {},
   "outputs": [
    {
     "name": "stdout",
     "output_type": "stream",
     "text": [
      "Hellow%>Hy%>How are you\n"
     ]
    }
   ],
   "source": [
    "print('Hellow','Hy','How are you',sep='%>')"
   ]
  },
  {
   "cell_type": "code",
   "execution_count": 48,
   "id": "1df9983c-7ea4-46ca-a9a1-a10dbad63a4c",
   "metadata": {},
   "outputs": [
    {
     "name": "stdout",
     "output_type": "stream",
     "text": [
      "Hellow&&&Hy&&&How are you\n"
     ]
    }
   ],
   "source": [
    "print('Hellow','Hy','How are you',sep='&&&')"
   ]
  }
 ],
 "metadata": {
  "kernelspec": {
   "display_name": "Python 3 (ipykernel)",
   "language": "python",
   "name": "python3"
  },
  "language_info": {
   "codemirror_mode": {
    "name": "ipython",
    "version": 3
   },
   "file_extension": ".py",
   "mimetype": "text/x-python",
   "name": "python",
   "nbconvert_exporter": "python",
   "pygments_lexer": "ipython3",
   "version": "3.13.5"
  }
 },
 "nbformat": 4,
 "nbformat_minor": 5
}
