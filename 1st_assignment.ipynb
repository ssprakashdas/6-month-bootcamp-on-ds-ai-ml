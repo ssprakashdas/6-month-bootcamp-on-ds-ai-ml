{
  "nbformat": 4,
  "nbformat_minor": 0,
  "metadata": {
    "colab": {
      "provenance": []
    },
    "kernelspec": {
      "name": "python3",
      "display_name": "Python 3"
    },
    "language_info": {
      "name": "python"
    }
  },
  "cells": [
    {
      "cell_type": "code",
      "execution_count": null,
      "metadata": {
        "colab": {
          "base_uri": "https://localhost:8080/"
        },
        "id": "BjFeGzdVRBPb",
        "outputId": "a4a561b3-45d1-4d3e-ccda-33a2089c9469"
      },
      "outputs": [
        {
          "output_type": "stream",
          "name": "stdout",
          "text": [
            "25\n"
          ]
        }
      ],
      "source": [
        "# Example 1: integer variable\n",
        "age = 25 # Here 'age' is a veriable, and it stores an integer value 25\n",
        "print (age)"
      ]
    },
    {
      "cell_type": "code",
      "source": [
        "#Example 2: String variable\n",
        "name = \"Prakash\" # Here 'name' is a varible, stores a String \"Prakash\"\n",
        "print (name)"
      ],
      "metadata": {
        "colab": {
          "base_uri": "https://localhost:8080/"
        },
        "id": "TGk86qddRH1H",
        "outputId": "f6ea5eb4-d71a-4610-c399-97bdb66fd1b6"
      },
      "execution_count": null,
      "outputs": [
        {
          "output_type": "stream",
          "name": "stdout",
          "text": [
            "Prakash\n"
          ]
        }
      ]
    },
    {
      "cell_type": "code",
      "source": [
        "#Example 3: Flot variable\n",
        "price = 9.99 # Here 'price' is a varible, stores a floting-point number \"9.99\"\n",
        "print (price)"
      ],
      "metadata": {
        "colab": {
          "base_uri": "https://localhost:8080/"
        },
        "id": "jx5ZIhKYRH4H",
        "outputId": "85b05993-88fe-46e7-eeb1-3455ee30f21d"
      },
      "execution_count": null,
      "outputs": [
        {
          "output_type": "stream",
          "name": "stdout",
          "text": [
            "9.99\n"
          ]
        }
      ]
    },
    {
      "cell_type": "code",
      "source": [
        "#Example 4: Boolean variable\n",
        "is_active = True # Here 'is_active' ia a varible, stores a Boolean value\n",
        "print (is_active)"
      ],
      "metadata": {
        "colab": {
          "base_uri": "https://localhost:8080/"
        },
        "id": "1VWapm3mRH7l",
        "outputId": "14088b6b-d526-4269-bead-814f2860f824"
      },
      "execution_count": null,
      "outputs": [
        {
          "output_type": "stream",
          "name": "stdout",
          "text": [
            "True\n"
          ]
        }
      ]
    },
    {
      "cell_type": "code",
      "source": [
        "#Storing the value 10 in a variable called 'x'\n",
        "x = 10\n",
        "#printing the value of 'x'\n",
        "print(x)"
      ],
      "metadata": {
        "colab": {
          "base_uri": "https://localhost:8080/"
        },
        "id": "l12B_hCTRH-y",
        "outputId": "ce2af079-b488-4940-c860-1a78a8fc5b83"
      },
      "execution_count": null,
      "outputs": [
        {
          "output_type": "stream",
          "name": "stdout",
          "text": [
            "10\n"
          ]
        }
      ]
    },
    {
      "cell_type": "code",
      "source": [
        "#Assigning the values to variable\n",
        "a = 5\n",
        "b = 5\n",
        "#Adding two varibles and storing the result in result\n",
        "result = a + b\n",
        "#print the result\n",
        "print(result)"
      ],
      "metadata": {
        "id": "nqRsw5JDRIBz",
        "colab": {
          "base_uri": "https://localhost:8080/"
        },
        "outputId": "2a7d2fb3-4ddf-4989-94b0-03ba14daa43c"
      },
      "execution_count": null,
      "outputs": [
        {
          "output_type": "stream",
          "name": "stdout",
          "text": [
            "10\n"
          ]
        }
      ]
    },
    {
      "cell_type": "code",
      "source": [
        "#initial value\n",
        "score = 50\n",
        "print (score)\n",
        "#changing the value of score\n",
        "score = 100\n",
        "print (score)"
      ],
      "metadata": {
        "id": "MXZrVPb3RIEf",
        "colab": {
          "base_uri": "https://localhost:8080/"
        },
        "outputId": "ca69f57b-8bdb-4ec8-9e84-a5f7f00cf3c3"
      },
      "execution_count": null,
      "outputs": [
        {
          "output_type": "stream",
          "name": "stdout",
          "text": [
            "50\n",
            "100\n"
          ]
        }
      ]
    },
    {
      "cell_type": "code",
      "source": [
        "#Assigning value to variables\n",
        "first_name = \"prakash\"\n",
        "last_name = \"das\"\n",
        "#Concatenating strings and storing in a new variable\n",
        "full_name = first_name +\" \"+ last_name"
      ],
      "metadata": {
        "id": "NBKdDV4YRIH4"
      },
      "execution_count": null,
      "outputs": []
    },
    {
      "cell_type": "code",
      "source": [
        "#Assigning value to variables\n",
        "first_name = \"prakash\"\n",
        "last_name = \"das\"\n",
        "#Concatenating strings and storing in a new variable\n",
        "full_name = first_name +\" \"+ last_name"
      ],
      "metadata": {
        "id": "lq5R5UkeVrVz"
      },
      "execution_count": null,
      "outputs": []
    },
    {
      "cell_type": "code",
      "source": [],
      "metadata": {
        "id": "yRalpovOVrY8"
      },
      "execution_count": null,
      "outputs": []
    },
    {
      "cell_type": "code",
      "source": [],
      "metadata": {
        "id": "tkRAnSF8Vrcn"
      },
      "execution_count": null,
      "outputs": []
    },
    {
      "cell_type": "code",
      "source": [],
      "metadata": {
        "id": "W4TtSjfmVrf0"
      },
      "execution_count": null,
      "outputs": []
    }
  ]
}